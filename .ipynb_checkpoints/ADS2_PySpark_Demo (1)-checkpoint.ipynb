{
 "cells": [
  {
   "cell_type": "markdown",
   "metadata": {
    "id": "0ncw-S55emI1"
   },
   "source": [
    "# Apache Spark Demo"
   ]
  },
  {
   "cell_type": "code",
   "execution_count": 1,
   "metadata": {
    "id": "5lb-Z7ZM8O3s"
   },
   "outputs": [
    {
     "name": "stderr",
     "output_type": "stream",
     "text": [
      "The system cannot find the path specified.\n"
     ]
    }
   ],
   "source": [
    "# Apache Spark uses Java, so first we must install that\n",
    "\n",
    "#!apt-get install openjdk-8-jdk-headless -qq > /dev/null"
   ]
  },
  {
   "cell_type": "code",
   "execution_count": 2,
   "metadata": {
    "colab": {
     "base_uri": "https://localhost:8080/"
    },
    "id": "RUPg6GgyQsRd",
    "outputId": "0535c634-a66e-459a-af9e-03a1c42f3492"
   },
   "outputs": [
    {
     "ename": "ModuleNotFoundError",
     "evalue": "No module named 'google'",
     "output_type": "error",
     "traceback": [
      "\u001b[1;31m---------------------------------------------------------------------------\u001b[0m",
      "\u001b[1;31mModuleNotFoundError\u001b[0m                       Traceback (most recent call last)",
      "\u001b[1;32mC:\\Users\\CORNEL~1\\AppData\\Local\\Temp/ipykernel_24040/907070862.py\u001b[0m in \u001b[0;36m<module>\u001b[1;34m\u001b[0m\n\u001b[1;32m----> 1\u001b[1;33m \u001b[1;32mfrom\u001b[0m \u001b[0mgoogle\u001b[0m\u001b[1;33m.\u001b[0m\u001b[0mcolab\u001b[0m \u001b[1;32mimport\u001b[0m \u001b[0mdrive\u001b[0m\u001b[1;33m\u001b[0m\u001b[1;33m\u001b[0m\u001b[0m\n\u001b[0m\u001b[0;32m      2\u001b[0m \u001b[0mdrive\u001b[0m\u001b[1;33m.\u001b[0m\u001b[0mmount\u001b[0m\u001b[1;33m(\u001b[0m\u001b[1;34m'/content/drive'\u001b[0m\u001b[1;33m)\u001b[0m\u001b[1;33m\u001b[0m\u001b[1;33m\u001b[0m\u001b[0m\n",
      "\u001b[1;31mModuleNotFoundError\u001b[0m: No module named 'google'"
     ]
    }
   ],
   "source": [
    "from google.colab import drive\n",
    "drive.mount('/content/drive')\n"
   ]
  },
  {
   "cell_type": "code",
   "execution_count": 5,
   "metadata": {
    "id": "ixa72o938SKP"
   },
   "outputs": [],
   "source": [
    "# Download and unpack the latest version of Spark (3.3.0 as of writing)\n",
    "#!wget -q https://archive.apache.org/dist/spark/spark-3.3.0/spark-3.3.0-bin-hadoop3.tgz\n",
    "!tar xzf spark-3.3.0-bin-hadoop3.tgz"
   ]
  },
  {
   "cell_type": "code",
   "execution_count": 7,
   "metadata": {
    "id": "yWT7_XiQ8V6u"
   },
   "outputs": [],
   "source": [
    "# Set up environment variables\n",
    "import os\n",
    "#os.environ[\"JAVA_HOME\"] = \"/usr/lib/jvm/java-8-openjdk-amd64\"\n",
    "os.environ[\"SPARK_HOME\"] = \"spark-3.3.0-bin-hadoop3\""
   ]
  },
  {
   "cell_type": "code",
   "execution_count": 8,
   "metadata": {
    "id": "UPSvq-aj8Z_k"
   },
   "outputs": [],
   "source": [
    "# Install findspark, which helps python locate the psyspark module files\n",
    "!pip install -q findspark\n",
    "import findspark\n",
    "findspark.init()"
   ]
  },
  {
   "cell_type": "code",
   "execution_count": null,
   "metadata": {
    "id": "kXT8Q_IO8cVe"
   },
   "outputs": [],
   "source": [
    "# Finally, we initialse a \"SparkSession\", which handles the computations\n",
    "from pyspark.sql import SparkSession\n",
    "spark = SparkSession.builder\\\n",
    "        .master(\"local\")\\\n",
    "        .appName(\"Colab\")\\\n",
    "        .config('spark.ui.port', '4050')\\\n",
    "        .getOrCreate()"
   ]
  },
  {
   "cell_type": "code",
   "execution_count": null,
   "metadata": {
    "id": "Xd_3nnWZ9-fm"
   },
   "outputs": [],
   "source": [
    "# Load in the .csv file to a DataFrame\n",
    "usersCsvPath = \"/content/sample_data/california_housing_test.csv\"\n",
    "\n",
    "housingDF = (spark\n",
    "             .read\n",
    "             .option('header', True)\n",
    "             .option('inferSchema', True)\n",
    "             .csv(usersCsvPath))"
   ]
  },
  {
   "cell_type": "code",
   "execution_count": null,
   "metadata": {
    "colab": {
     "base_uri": "https://localhost:8080/"
    },
    "id": "wAi9P045UhGq",
    "outputId": "74607d37-799c-4726-8b10-d3d6145305c6"
   },
   "outputs": [
    {
     "name": "stdout",
     "output_type": "stream",
     "text": [
      "+---------+--------+------------------+-----------+--------------+----------+----------+-------------+------------------+\n",
      "|longitude|latitude|housing_median_age|total_rooms|total_bedrooms|population|households|median_income|median_house_value|\n",
      "+---------+--------+------------------+-----------+--------------+----------+----------+-------------+------------------+\n",
      "|  -122.05|   37.37|              27.0|     3885.0|         661.0|    1537.0|     606.0|       6.6085|          344700.0|\n",
      "|   -118.3|   34.26|              43.0|     1510.0|         310.0|     809.0|     277.0|        3.599|          176500.0|\n",
      "|  -117.81|   33.78|              27.0|     3589.0|         507.0|    1484.0|     495.0|       5.7934|          270500.0|\n",
      "|  -118.36|   33.82|              28.0|       67.0|          15.0|      49.0|      11.0|       6.1359|          330000.0|\n",
      "|  -119.67|   36.33|              19.0|     1241.0|         244.0|     850.0|     237.0|       2.9375|           81700.0|\n",
      "|  -119.56|   36.51|              37.0|     1018.0|         213.0|     663.0|     204.0|       1.6635|           67000.0|\n",
      "|  -121.43|   38.63|              43.0|     1009.0|         225.0|     604.0|     218.0|       1.6641|           67000.0|\n",
      "|  -120.65|   35.48|              19.0|     2310.0|         471.0|    1341.0|     441.0|        3.225|          166900.0|\n",
      "|  -122.84|    38.4|              15.0|     3080.0|         617.0|    1446.0|     599.0|       3.6696|          194400.0|\n",
      "|  -118.02|   34.08|              31.0|     2402.0|         632.0|    2830.0|     603.0|       2.3333|          164200.0|\n",
      "|  -118.24|   33.98|              45.0|      972.0|         249.0|    1288.0|     261.0|       2.2054|          125000.0|\n",
      "|  -119.12|   35.85|              37.0|      736.0|         166.0|     564.0|     138.0|       2.4167|           58300.0|\n",
      "|  -121.93|   37.25|              36.0|     1089.0|         182.0|     535.0|     170.0|         4.69|          252600.0|\n",
      "|  -117.03|   32.97|              16.0|     3936.0|         694.0|    1935.0|     659.0|       4.5625|          231200.0|\n",
      "|  -117.97|   33.73|              27.0|     2097.0|         325.0|    1217.0|     331.0|       5.7121|          222500.0|\n",
      "|  -117.99|   33.81|              42.0|      161.0|          40.0|     157.0|      50.0|          2.2|          153100.0|\n",
      "|  -120.81|   37.53|              15.0|      570.0|         123.0|     189.0|     107.0|        1.875|          181300.0|\n",
      "|   -121.2|   38.69|              26.0|     3077.0|         607.0|    1603.0|     595.0|       2.7174|          137500.0|\n",
      "|  -118.88|   34.21|              26.0|     1590.0|         196.0|     654.0|     199.0|       6.5851|          300000.0|\n",
      "|  -122.59|   38.01|              35.0|     8814.0|        1307.0|    3450.0|    1258.0|       6.1724|          414300.0|\n",
      "+---------+--------+------------------+-----------+--------------+----------+----------+-------------+------------------+\n",
      "only showing top 20 rows\n",
      "\n",
      "root\n",
      " |-- longitude: double (nullable = true)\n",
      " |-- latitude: double (nullable = true)\n",
      " |-- housing_median_age: double (nullable = true)\n",
      " |-- total_rooms: double (nullable = true)\n",
      " |-- total_bedrooms: double (nullable = true)\n",
      " |-- population: double (nullable = true)\n",
      " |-- households: double (nullable = true)\n",
      " |-- median_income: double (nullable = true)\n",
      " |-- median_house_value: double (nullable = true)\n",
      "\n"
     ]
    }
   ],
   "source": [
    "housingDF.show()\n",
    "housingDF.printSchema()"
   ]
  },
  {
   "cell_type": "code",
   "execution_count": null,
   "metadata": {
    "colab": {
     "base_uri": "https://localhost:8080/"
    },
    "id": "jyzBRtTqUrg8",
    "outputId": "720424cb-4184-4d79-dc58-9b60681aedcd"
   },
   "outputs": [
    {
     "name": "stdout",
     "output_type": "stream",
     "text": [
      "+------------------+\n",
      "|median_house_value|\n",
      "+------------------+\n",
      "|          344700.0|\n",
      "|          176500.0|\n",
      "|          270500.0|\n",
      "|          330000.0|\n",
      "|           81700.0|\n",
      "|           67000.0|\n",
      "|           67000.0|\n",
      "|          166900.0|\n",
      "|          194400.0|\n",
      "|          164200.0|\n",
      "|          125000.0|\n",
      "|           58300.0|\n",
      "|          252600.0|\n",
      "|          231200.0|\n",
      "|          222500.0|\n",
      "|          153100.0|\n",
      "|          181300.0|\n",
      "|          137500.0|\n",
      "|          300000.0|\n",
      "|          414300.0|\n",
      "+------------------+\n",
      "only showing top 20 rows\n",
      "\n"
     ]
    }
   ],
   "source": [
    "housingDF.select('median_house_value').show()"
   ]
  },
  {
   "cell_type": "code",
   "execution_count": null,
   "metadata": {
    "colab": {
     "base_uri": "https://localhost:8080/"
    },
    "id": "vkYNwNjmVous",
    "outputId": "a269d71b-2c46-4b2e-8643-aa2a003263ae"
   },
   "outputs": [
    {
     "name": "stdout",
     "output_type": "stream",
     "text": [
      "+------------------+---------+--------+\n",
      "|median_house_value|longitude|latitude|\n",
      "+------------------+---------+--------+\n",
      "|          344700.0|  -122.05|   37.37|\n",
      "|          176500.0|   -118.3|   34.26|\n",
      "|          270500.0|  -117.81|   33.78|\n",
      "|          330000.0|  -118.36|   33.82|\n",
      "|           81700.0|  -119.67|   36.33|\n",
      "|           67000.0|  -119.56|   36.51|\n",
      "|           67000.0|  -121.43|   38.63|\n",
      "|          166900.0|  -120.65|   35.48|\n",
      "|          194400.0|  -122.84|    38.4|\n",
      "|          164200.0|  -118.02|   34.08|\n",
      "|          125000.0|  -118.24|   33.98|\n",
      "|           58300.0|  -119.12|   35.85|\n",
      "|          252600.0|  -121.93|   37.25|\n",
      "|          231200.0|  -117.03|   32.97|\n",
      "|          222500.0|  -117.97|   33.73|\n",
      "|          153100.0|  -117.99|   33.81|\n",
      "|          181300.0|  -120.81|   37.53|\n",
      "|          137500.0|   -121.2|   38.69|\n",
      "|          300000.0|  -118.88|   34.21|\n",
      "|          414300.0|  -122.59|   38.01|\n",
      "+------------------+---------+--------+\n",
      "only showing top 20 rows\n",
      "\n"
     ]
    }
   ],
   "source": [
    "housingDF.select('median_house_value', 'longitude', 'latitude').show()"
   ]
  },
  {
   "cell_type": "code",
   "execution_count": null,
   "metadata": {
    "colab": {
     "base_uri": "https://localhost:8080/"
    },
    "id": "_Nl1kQ81Vz_r",
    "outputId": "0fc3ecb4-e033-4ad1-f796-9fb4477578e4"
   },
   "outputs": [
    {
     "name": "stdout",
     "output_type": "stream",
     "text": [
      "+------------------+---------+--------+------------------+\n",
      "|median_house_value|longitude|latitude|housing_median_age|\n",
      "+------------------+---------+--------+------------------+\n",
      "|          176500.0|   -118.3|   34.26|              43.0|\n",
      "|           67000.0|  -119.56|   36.51|              37.0|\n",
      "|           67000.0|  -121.43|   38.63|              43.0|\n",
      "|          164200.0|  -118.02|   34.08|              31.0|\n",
      "|          125000.0|  -118.24|   33.98|              45.0|\n",
      "|           58300.0|  -119.12|   35.85|              37.0|\n",
      "|          252600.0|  -121.93|   37.25|              36.0|\n",
      "|          153100.0|  -117.99|   33.81|              42.0|\n",
      "|          414300.0|  -122.59|   38.01|              35.0|\n",
      "|          126300.0|  -122.15|   37.75|              40.0|\n",
      "|           83400.0|  -121.37|   38.68|              36.0|\n",
      "|          241500.0|  -118.16|   34.07|              47.0|\n",
      "|          115400.0|   -122.2|   37.79|              45.0|\n",
      "|          484700.0|  -118.03|   34.16|              36.0|\n",
      "|          250000.0|  -122.42|   37.76|              52.0|\n",
      "|          369200.0|  -118.39|   33.99|              32.0|\n",
      "|          172600.0|   -118.3|   33.91|              34.0|\n",
      "|          183800.0|  -118.32|   33.94|              38.0|\n",
      "|          178700.0|  -118.11|    34.0|              33.0|\n",
      "|          270800.0|  -122.53|   37.97|              52.0|\n",
      "+------------------+---------+--------+------------------+\n",
      "only showing top 20 rows\n",
      "\n"
     ]
    }
   ],
   "source": [
    "housingDF.select('median_house_value', 'longitude', 'latitude', 'housing_median_age')\\\n",
    "         .filter('housing_median_age > 30')\\\n",
    "         .show()"
   ]
  },
  {
   "cell_type": "code",
   "execution_count": null,
   "metadata": {
    "colab": {
     "base_uri": "https://localhost:8080/"
    },
    "id": "uBoIuh-bWVJK",
    "outputId": "315cb78b-b40b-42e5-8c92-27c9177773d7"
   },
   "outputs": [
    {
     "name": "stdout",
     "output_type": "stream",
     "text": [
      "+------------------+---------+--------+------------------+\n",
      "|median_house_value|longitude|latitude|housing_median_age|\n",
      "+------------------+---------+--------+------------------+\n",
      "|          176500.0|   -118.3|   34.26|              43.0|\n",
      "|           67000.0|  -119.56|   36.51|              37.0|\n",
      "|           67000.0|  -121.43|   38.63|              43.0|\n",
      "|          164200.0|  -118.02|   34.08|              31.0|\n",
      "|          125000.0|  -118.24|   33.98|              45.0|\n",
      "|           58300.0|  -119.12|   35.85|              37.0|\n",
      "|          252600.0|  -121.93|   37.25|              36.0|\n",
      "|          153100.0|  -117.99|   33.81|              42.0|\n",
      "|          414300.0|  -122.59|   38.01|              35.0|\n",
      "|          126300.0|  -122.15|   37.75|              40.0|\n",
      "|           83400.0|  -121.37|   38.68|              36.0|\n",
      "|          241500.0|  -118.16|   34.07|              47.0|\n",
      "|          115400.0|   -122.2|   37.79|              45.0|\n",
      "|          484700.0|  -118.03|   34.16|              36.0|\n",
      "|          250000.0|  -122.42|   37.76|              52.0|\n",
      "|          369200.0|  -118.39|   33.99|              32.0|\n",
      "|          172600.0|   -118.3|   33.91|              34.0|\n",
      "|          183800.0|  -118.32|   33.94|              38.0|\n",
      "|          178700.0|  -118.11|    34.0|              33.0|\n",
      "|          270800.0|  -122.53|   37.97|              52.0|\n",
      "+------------------+---------+--------+------------------+\n",
      "only showing top 20 rows\n",
      "\n"
     ]
    }
   ],
   "source": [
    "old_houses = housingDF.select('median_house_value', 'longitude', 'latitude', 'housing_median_age')\\\n",
    "         .filter('housing_median_age > 30')\n",
    "old_houses.show()"
   ]
  },
  {
   "cell_type": "markdown",
   "metadata": {
    "id": "xZZEtAbr9LM9"
   },
   "source": [
    "# Lecture 3 - Aggregations"
   ]
  },
  {
   "cell_type": "code",
   "execution_count": null,
   "metadata": {
    "id": "oX92CMKLW0Vn"
   },
   "outputs": [],
   "source": [
    "usersCsvPath = \"/content/titanic_train.csv\"\n",
    "\n",
    "titanicDF = (spark\n",
    "             .read\n",
    "             .option('header', True)\n",
    "             .option('inferSchema', True)\n",
    "             .csv(usersCsvPath))"
   ]
  },
  {
   "cell_type": "code",
   "execution_count": null,
   "metadata": {
    "colab": {
     "base_uri": "https://localhost:8080/"
    },
    "id": "zXPH2hOI9RDi",
    "outputId": "915da17b-274f-4539-f0e9-00ab6dd5a1c5"
   },
   "outputs": [
    {
     "name": "stdout",
     "output_type": "stream",
     "text": [
      "+--------+------+--------------------+------+---+-----------------------+-----------------------+-------+\n",
      "|Survived|Pclass|                Name|   Sex|Age|Siblings/Spouses Aboard|Parents/Children Aboard|   Fare|\n",
      "+--------+------+--------------------+------+---+-----------------------+-----------------------+-------+\n",
      "|       0|     3|Mr. Owen Harris B...|  male| 22|                      1|                      0|   7.25|\n",
      "|       1|     1|Mrs. John Bradley...|female| 38|                      1|                      0|71.2833|\n",
      "|       1|     3|Miss. Laina Heikk...|female|  ?|                      0|                      0|  7.925|\n",
      "|       1|     1|Mrs. Jacques Heat...|female| 35|                      1|                      0|   53.1|\n",
      "|       0|     3|Mr. William Henry...|  male| 35|                      0|                      0|   8.05|\n",
      "|       0|     3|     Mr. James Moran|  male| 27|                      0|                      0| 8.4583|\n",
      "|       0|     1|Mr. Timothy J McC...|  male| 54|                      0|                      0|51.8625|\n",
      "|       0|     3|Master. Gosta Leo...|  male|  2|                      3|                      1| 21.075|\n",
      "|       1|     3|Mrs. Oscar W (Eli...|female| 27|                      0|                      2|11.1333|\n",
      "|       1|     2|Mrs. Nicholas (Ad...|female| 14|                      1|                      0|30.0708|\n",
      "|       1|     3|Miss. Marguerite ...|female|  4|                      1|                      1|   16.7|\n",
      "|       1|     1|Miss. Elizabeth B...|female| 58|                      0|                      0|  26.55|\n",
      "|       0|     3|Mr. William Henry...|  male| 20|                      0|                      0|   8.05|\n",
      "|       0|     3|Mr. Anders Johan ...|  male| 39|                      1|                      5| 31.275|\n",
      "|       0|     3|Miss. Hulda Amand...|female| 14|                      0|                      0| 7.8542|\n",
      "|       1|     2|Mrs. (Mary D King...|female| 55|                   null|                   null|   16.0|\n",
      "|       0|     3| Master. Eugene Rice|  male|  2|                      4|                      1| 29.125|\n",
      "|       1|     2|Mr. Charles Eugen...|  male| 23|                      0|                      0|   13.0|\n",
      "|       0|     3|Mrs. Julius (Emel...|female| 31|                      1|                      0|   18.0|\n",
      "|       1|     3|Mrs. Fatima Masse...|female| 22|                      0|                      0|  7.225|\n",
      "+--------+------+--------------------+------+---+-----------------------+-----------------------+-------+\n",
      "only showing top 20 rows\n",
      "\n",
      "root\n",
      " |-- Survived: integer (nullable = true)\n",
      " |-- Pclass: integer (nullable = true)\n",
      " |-- Name: string (nullable = true)\n",
      " |-- Sex: string (nullable = true)\n",
      " |-- Age: string (nullable = true)\n",
      " |-- Siblings/Spouses Aboard: integer (nullable = true)\n",
      " |-- Parents/Children Aboard: integer (nullable = true)\n",
      " |-- Fare: double (nullable = true)\n",
      "\n"
     ]
    }
   ],
   "source": [
    "# Check the contents of the .csv file\n",
    "\n",
    "titanicDF.show() # .show displays the first 20 rows by default\n",
    "titanicDF.printSchema()"
   ]
  },
  {
   "cell_type": "code",
   "execution_count": null,
   "metadata": {
    "colab": {
     "base_uri": "https://localhost:8080/"
    },
    "id": "V79v3hdZXTEc",
    "outputId": "0e562311-3881-4690-a444-609591d3a999"
   },
   "outputs": [
    {
     "name": "stdout",
     "output_type": "stream",
     "text": [
      "+------+------------------+\n",
      "|Pclass|         avg(Fare)|\n",
      "+------+------------------+\n",
      "|     1| 84.15468749999992|\n",
      "|     3|13.707707392197129|\n",
      "|     2| 20.66218315217391|\n",
      "+------+------------------+\n",
      "\n"
     ]
    }
   ],
   "source": [
    "titanicDF.groupBy('Pclass').mean('Fare').show()"
   ]
  },
  {
   "cell_type": "code",
   "execution_count": null,
   "metadata": {
    "colab": {
     "base_uri": "https://localhost:8080/"
    },
    "id": "P9lol7h8ZX1Y",
    "outputId": "5f542345-aec6-4fd5-ab86-801524395e9b"
   },
   "outputs": [
    {
     "name": "stdout",
     "output_type": "stream",
     "text": [
      "+------+------------------+\n",
      "|   sex|         avg(Fare)|\n",
      "+------+------------------+\n",
      "|female| 44.47981783439487|\n",
      "|  male|25.633935253054084|\n",
      "+------+------------------+\n",
      "\n"
     ]
    }
   ],
   "source": [
    "titanicDF.groupBy('sex').mean('Fare').show()"
   ]
  },
  {
   "cell_type": "code",
   "execution_count": null,
   "metadata": {
    "colab": {
     "base_uri": "https://localhost:8080/"
    },
    "id": "DREEMTrEZlmt",
    "outputId": "48bb3c3d-dbab-438e-b2b6-da5f0236d643"
   },
   "outputs": [
    {
     "name": "stdout",
     "output_type": "stream",
     "text": [
      "+------+------------------+\n",
      "|Pclass|         avg(Fare)|\n",
      "+------+------------------+\n",
      "|     1| 84.15468749999992|\n",
      "|     2| 20.66218315217391|\n",
      "|     3|13.707707392197129|\n",
      "+------+------------------+\n",
      "\n",
      "+------+------+-----+\n",
      "|Pclass|   sex|count|\n",
      "+------+------+-----+\n",
      "|     1|female|   94|\n",
      "|     1|  male|  122|\n",
      "|     2|female|   76|\n",
      "|     2|  male|  108|\n",
      "|     3|  male|  343|\n",
      "|     3|female|  144|\n",
      "+------+------+-----+\n",
      "\n"
     ]
    }
   ],
   "source": [
    "titanicDF.groupBy('Pclass').mean('Fare').sort('Pclass').show()\n",
    "titanicDF.groupBy('Pclass', 'sex').count().sort('Pclass').show()"
   ]
  },
  {
   "cell_type": "code",
   "execution_count": null,
   "metadata": {
    "id": "rwT3IZcRayC2"
   },
   "outputs": [],
   "source": [
    "from pyspark.sql import functions as F"
   ]
  },
  {
   "cell_type": "code",
   "execution_count": null,
   "metadata": {
    "colab": {
     "base_uri": "https://localhost:8080/"
    },
    "id": "wyOM_La2aAEl",
    "outputId": "999f571b-6d87-46fb-bde4-55a422791396"
   },
   "outputs": [
    {
     "name": "stdout",
     "output_type": "stream",
     "text": [
      "+------+------+----------------------------+----------------------------+\n",
      "|   sex|Pclass|avg(Siblings/Spouses Aboard)|avg(Parents/Children Aboard)|\n",
      "+------+------+----------------------------+----------------------------+\n",
      "|female|     1|          0.5591397849462365|         0.46236559139784944|\n",
      "|  male|     1|          0.3140495867768595|          0.2786885245901639|\n",
      "|female|     2|                         0.5|          0.6081081081081081|\n",
      "|  male|     2|          0.3592233009708738|         0.22549019607843138|\n",
      "|female|     3|          0.9020979020979021|          0.8041958041958042|\n",
      "|  male|     3|          0.5103244837758112|         0.22807017543859648|\n",
      "+------+------+----------------------------+----------------------------+\n",
      "\n"
     ]
    }
   ],
   "source": [
    "titanicDF.groupBy('sex', 'Pclass')\\\n",
    "         .agg(F.mean('Siblings/Spouses Aboard'),\n",
    "              F.mean('Parents/Children Aboard'))\\\n",
    "         .sort('Pclass', 'sex')\\\n",
    "         .show()"
   ]
  },
  {
   "cell_type": "code",
   "execution_count": null,
   "metadata": {
    "id": "2yIRGxcxbSk1"
   },
   "outputs": [],
   "source": [
    "sibsp = F.col('Siblings/Spouses Aboard')\n",
    "parch = F.col('Parents/Children Aboard')"
   ]
  },
  {
   "cell_type": "code",
   "execution_count": null,
   "metadata": {
    "id": "UQb4GkXYckjq"
   },
   "outputs": [],
   "source": [
    "SibSpParCh = (sibsp + parch).alias('SibSpParCh')"
   ]
  },
  {
   "cell_type": "code",
   "execution_count": null,
   "metadata": {
    "colab": {
     "base_uri": "https://localhost:8080/"
    },
    "id": "3cPyMa-4dC00",
    "outputId": "04c550b6-1df7-4e64-dbd3-3fd90667d0fe"
   },
   "outputs": [
    {
     "name": "stdout",
     "output_type": "stream",
     "text": [
      "+------+------+------------------+\n",
      "|   sex|Pclass|   Mean_SibSpParCh|\n",
      "+------+------+------------------+\n",
      "|female|     1| 1.021505376344086|\n",
      "|  male|     1|0.5950413223140496|\n",
      "|female|     2|1.1111111111111112|\n",
      "|  male|     2| 0.594059405940594|\n",
      "|female|     3|1.7062937062937062|\n",
      "|  male|     3| 0.742603550295858|\n",
      "+------+------+------------------+\n",
      "\n"
     ]
    }
   ],
   "source": [
    "titanicDF.groupBy('sex', 'Pclass')\\\n",
    "         .agg(F.mean(SibSpParCh).alias('Mean_SibSpParCh'))\\\n",
    "         .sort('Pclass', 'sex')\\\n",
    "         .show()"
   ]
  },
  {
   "cell_type": "code",
   "execution_count": null,
   "metadata": {
    "id": "7a5fw8tAdOu6"
   },
   "outputs": [],
   "source": []
  }
 ],
 "metadata": {
  "colab": {
   "collapsed_sections": [],
   "provenance": []
  },
  "kernelspec": {
   "display_name": "Python 3 (ipykernel)",
   "language": "python",
   "name": "python3"
  },
  "language_info": {
   "codemirror_mode": {
    "name": "ipython",
    "version": 3
   },
   "file_extension": ".py",
   "mimetype": "text/x-python",
   "name": "python",
   "nbconvert_exporter": "python",
   "pygments_lexer": "ipython3",
   "version": "3.9.7"
  }
 },
 "nbformat": 4,
 "nbformat_minor": 1
}
