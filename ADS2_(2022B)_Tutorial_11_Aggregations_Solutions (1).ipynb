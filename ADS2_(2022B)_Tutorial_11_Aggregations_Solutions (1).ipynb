{
  "cells": [
    {
      "cell_type": "markdown",
      "metadata": {
        "id": "ViQdeQ5m1E2Z"
      },
      "source": [
        "# ADS2 - Tutorial 11 - Aggregations\n",
        "\n",
        "Learning Outcomes:\n",
        "\n",
        "1.   Use Aggregation functions to explore the properties of a DataFrame\n",
        "2.   Use GroupedData to perform multiple aggregations at once, over specific subsets of data\n",
        "\n",
        "\n"
      ]
    },
    {
      "cell_type": "code",
      "source": [
        "from google.colab import drive\n",
        "drive.mount('/content/drive')"
      ],
      "metadata": {
        "id": "QR84bWkSrmKa",
        "colab": {
          "base_uri": "https://localhost:8080/"
        },
        "outputId": "9320742d-5016-40e0-afe5-1ee3d0865ac6"
      },
      "execution_count": 1,
      "outputs": [
        {
          "output_type": "stream",
          "name": "stdout",
          "text": [
            "Mounted at /content/drive\n"
          ]
        }
      ]
    },
    {
      "cell_type": "code",
      "execution_count": 2,
      "metadata": {
        "id": "5lb-Z7ZM8O3s"
      },
      "outputs": [],
      "source": [
        "# Apache Spark uses Java, so first we must install that\n",
        "!apt-get install openjdk-8-jdk-headless -qq > /dev/null\n",
        "\n",
        "# Unpack Spark from google drive\n",
        "!tar xzf /content/drive/MyDrive/spark-3.3.0-bin-hadoop3.tgz\n",
        "\n",
        "# Set up environment variables\n",
        "import os\n",
        "os.environ[\"JAVA_HOME\"] = \"/usr/lib/jvm/java-8-openjdk-amd64\"\n",
        "os.environ[\"SPARK_HOME\"] = \"spark-3.3.0-bin-hadoop3\"\n",
        "\n",
        "# Install findspark, which helps python locate the psyspark module files\n",
        "!pip install -q findspark\n",
        "import findspark\n",
        "findspark.init()\n",
        "\n",
        "# Finally, we initialse a \"SparkSession\", which handles the computations\n",
        "from pyspark.sql import SparkSession\n",
        "spark = SparkSession.builder\\\n",
        "        .master(\"local\")\\\n",
        "        .appName(\"Colab\")\\\n",
        "        .config('spark.ui.port', '4050')\\\n",
        "        .getOrCreate()\n",
        "        \n",
        "from pyspark.sql import functions as F"
      ]
    },
    {
      "cell_type": "markdown",
      "metadata": {
        "id": "N61alIq17Q4i"
      },
      "source": [
        "# Exercise 1\n",
        "\n",
        "Upload and read the AmazonBooks.csv file from the canvas page into a DataFrame. The dataset is described [here](https://www.kaggle.com/palanjali007/amazons-top-50-bestselling-novels-20092020?select=AmazonBooks+-+Sheet1.csv)."
      ]
    },
    {
      "cell_type": "code",
      "source": [
        "### Read in the .csv data, ensure the schema is appropriate\n",
        "\n",
        "CsvPath = '/content/AmazonBooks.csv'\n",
        "\n",
        "# Load .csv with header, ',' seperators and inferred schema\n",
        "BooksDF = spark.read\\\n",
        "                     .option('header', 'True')\\\n",
        "                     .option('sep', ',')\\\n",
        "                     .option('inferSchema', 'True')\\\n",
        "                     .csv(CsvPath)\n",
        "          \n",
        "# Print Schema to check\n",
        "BooksDF.printSchema()"
      ],
      "metadata": {
        "colab": {
          "base_uri": "https://localhost:8080/"
        },
        "id": "IBhay169pd7K",
        "outputId": "9e986e34-3fd4-408d-8670-746473ba1920"
      },
      "execution_count": 3,
      "outputs": [
        {
          "output_type": "stream",
          "name": "stdout",
          "text": [
            "root\n",
            " |-- Name: string (nullable = true)\n",
            " |-- Author: string (nullable = true)\n",
            " |-- User Rating: double (nullable = true)\n",
            " |-- Reviews: integer (nullable = true)\n",
            " |-- Price: integer (nullable = true)\n",
            " |-- Year: integer (nullable = true)\n",
            " |-- Genre: string (nullable = true)\n",
            "\n"
          ]
        }
      ]
    },
    {
      "cell_type": "code",
      "source": [
        "### Show the top 50 books from the year 2020, ordered by User Rating\n",
        "# .filter, .sort/.orderBy, .show\n",
        "# Use the 'truncate=False' kwarg in .show to display the full row\n",
        "\n",
        "# Filter by year, sort by user rating, show top 50\n",
        "BooksDF.filter('Year == 2020')\\\n",
        "       .sort('User Rating', ascending=False)\\\n",
        "       .show(50, truncate=False)"
      ],
      "metadata": {
        "colab": {
          "base_uri": "https://localhost:8080/"
        },
        "id": "TqBNemfhteoi",
        "outputId": "a89a94fd-c5d8-444d-b162-d41dc565fb9e"
      },
      "execution_count": null,
      "outputs": [
        {
          "output_type": "stream",
          "name": "stdout",
          "text": [
            "+------------------------------------------------------------------------------------------------------------+------------------------+-----------+-------+-----+----+-----------+\n",
            "|Name                                                                                                        |Author                  |User Rating|Reviews|Price|Year|Genre      |\n",
            "+------------------------------------------------------------------------------------------------------------+------------------------+-----------+-------+-----+----+-----------+\n",
            "|The Very Hungry Caterpillar                                                                                 |Eric Carle              |4.9        |35965  |7    |2020|Non Fiction|\n",
            "|Brown Bear, Brown Bear, What Do You See?                                                                    | Bill Martin Jr.        |4.9        |25321  |5    |2020|Fiction    |\n",
            "|Magnolia Table, Volume 2                                                                                    |Joanna Gaines           |4.9        |16515  |17   |2020|Non Fiction|\n",
            "|The Boy, the Mole, the Fox and the Horse                                                                    |Charlie Mackesy         |4.9        |53549  |15   |2020|Non Fiction|\n",
            "|Chicka Chicka Boom Boom                                                                                     |Bill Martin Jr.         |4.9        |20705  |4    |2020|Fiction    |\n",
            "|The Deep End (Diary of a Wimpy Kid Book 15)                                                                 |Jeff Kinney             |4.9        |26047  |7    |2020|Fiction    |\n",
            "|A Promised Land                                                                                             |Barack Obama            |4.9        |83212  |23   |2020|Non Fiction|\n",
            "|Dog Man: Grime and Punishment                                                                               |Dav Pilkey              |4.9        |31045  |6    |2020|Fiction    |\n",
            "|I Love You to the Moon and Back                                                                             |Amelia Hepworth         |4.9        |24356  |1    |2020|Fiction    |\n",
            "|School Zone                                                                                                 |School Zone             |4.8        |45485  |8    |2020|Fiction    |\n",
            "|The Wonky Donkey                                                                                            |Craig Smith             |4.8        |51255  |5    |2020|Fiction    |\n",
            "|Paint by Sticker Kids: Zoo Animals: Create 10 Pictures One Sticker at a Time!                               | Workman Publishing     |4.8        |12852  |6    |2020|Fiction    |\n",
            "|Becoming                                                                                                    |Michelle Obama          |4.8        |99498  |10   |2020|Non Fiction|\n",
            "|How to Be an Antiracist                                                                                     |Ibram X. Kendi          |4.8        |19555  |13   |2020|Non Fiction|\n",
            "|Where the Crawdads Sing                                                                                     |Delia Owens             |4.8        |120727 |9    |2020|Fiction    |\n",
            "|How to Catch a Mermaid                                                                                      |Adam Wallace            |4.8        |17538  |6    |2020|Fiction    |\n",
            "|Untamed                                                                                                     |Glennon Doyle           |4.8        |41567  |15   |2020|Non Fiction|\n",
            "|Midnight Sun                                                                                                |Stephenie Meyer         |4.8        |64215  |13   |2020|Fiction    |\n",
            "|The Body Keeps the Score: Brain, Mind, and Body in the Healing of Trauma                                    |Bessel van der Kolk M.D.|4.8        |24327  |8    |2020|Non Fiction|\n",
            "|Paint by Sticker Kids: Unicorns & Magic: Create 10 Pictures One Sticker at a Time! Includes Glitter Stickers| Workman Publishing     |4.8        |12643  |9    |2020|Fiction    |\n",
            "|What Should Danny Do?                                                                                       |Adir Levy               |4.8        |14705  |13   |2020|Fiction    |\n",
            "|Live Free Or Die: America (and the World) on the Brink                                                      |Sean Hannity            |4.8        |20153  |15   |2020|Non Fiction|\n",
            "|Caste (Oprah's Book Club): The Origins of Our Discontents                                                   |Isabel Wilkerson        |4.8        |21967  |19   |2020|Non Fiction|\n",
            "|My First Learn to Write Workbook                                                                            |Crystal Radke           |4.8        |45694  |15   |2020|Non Fiction|\n",
            "|I Am Confident, Brave & Beautiful: A Coloring Book for Girls                                                |Hopscotch Girls         |4.8        |20485  |9    |2020|Non Fiction|\n",
            "|Atomic Habits: An Easy & Proven Way to Build Good Habits & Break Bad Ones                                   |James Clear             |4.8        |29634  |12   |2020|Non Fiction|\n",
            "|How to Catch a Unicorn                                                                                      |Adam Wallace            |4.8        |19988  |5    |2020|Fiction    |\n",
            "|Giraffes Can't Dance                                                                                        |Giles Andreae           |4.8        |23356  |6    |2020|Fiction    |\n",
            "|The 5 Love Languages: The Secret to Love that Lasts                                                         |Gary Chapman            |4.8        |44174  |8    |2020|Non Fiction|\n",
            "|Modern Comfort Food: A Barefoot Contessa Cookbook                                                           |Ina Garten              |4.8        |11769  |21   |2020|Non Fiction|\n",
            "|Prayer Journal for Women: 52 Week Scripture, Devotional & Guided Prayer Journal                             |Shannon Roberts         |4.8        |26462  |10   |2020|Non Fiction|\n",
            "|Rage                                                                                                        |Bob Woodward            |4.7        |27788  |15   |2020|Non Fiction|\n",
            "|Greenlights                                                                                                 |Matthew McConaughey     |4.7        |26740  |18   |2020|Non Fiction|\n",
            "|The Splendid and the Vile: A Saga of Churchill, Family, and Defiance During the Blitz                       |Erik Larson             |4.7        |15424  |19   |2020|Non Fiction|\n",
            "|The Ballad of Songbirds and Snakes                                                                          |Suzanne Collins         |4.7        |37173  |14   |2020|Fiction    |\n",
            "|The Big Book of Silly Jokes for Kids                                                                        |Carole P. Roman         |4.7        |11668  |9    |2020|Fiction    |\n",
            "|Get Out of Your Head: Stopping the Spiral of Toxic Thoughts                                                 |Jennie Allen            |4.7        |12879  |14   |2020|Non Fiction|\n",
            "|The Four Agreements: A Practical Guide to Personal Freedom                                                  |Don Miguel Ruiz         |4.7        |45368  |6    |2020|Non Fiction|\n",
            "|Human Body Activity Book for Kids: Hands-On Fun for Grades K-3                                              |Katie Stokes            |4.7        |14128  |5    |2020|Non Fiction|\n",
            "|Educated: A Memoir                                                                                          | Tara Westover          |4.7        |45351  |11   |2020|Non Fiction|\n",
            "|Burn After Writing                                                                                          |Sharon Jones            |4.6        |26423  |8    |2020|Non Fiction|\n",
            "|Too Much and Never Enough: How My Family Created the World's Most Dangerous Man                             |Mary L. Trump Ph.D.     |4.6        |94196  |17   |2020|Non Fiction|\n",
            "|American Dirt (Oprah's Book Club)                                                                           |Jeanine Cummins         |4.6        |41716  |17   |2020|Fiction    |\n",
            "|If Animals Kissed Good Night                                                                                |Ann Whitford Paul       |4.5        |39063  |4    |2020|Fiction    |\n",
            "|Little Fires Everywhere                                                                                     |Celeste Ng              |4.5        |43514  |10   |2020|Fiction    |\n",
            "|The Silent Patient                                                                                          |Alex Michaelides        |4.5        |61060  |15   |2020|Fiction    |\n",
            "|The Vanishing Half                                                                                          |Brit Bennett            |4.4        |42235  |16   |2020|Fiction    |\n",
            "|White Fragility: Why It's So Hard for White People to Talk About Racism                                     |Robin DiAngelo          |4.3        |31125  |10   |2020|Non Fiction|\n",
            "|The Room Where It Happened: A White House Memoir                                                            |John Bolton             |4.3        |44608  |12   |2020|Non Fiction|\n",
            "|Wacky Waving Inflatable Tube Guy                                                                            |Conor Riordan           |4.0        |25510  |7    |2020|Fiction    |\n",
            "+------------------------------------------------------------------------------------------------------------+------------------------+-----------+-------+-----+----+-----------+\n",
            "\n"
          ]
        }
      ]
    },
    {
      "cell_type": "markdown",
      "source": [
        "# Exercise 2\n",
        "\n",
        "Aggregate [functions](https://spark.apache.org/docs/latest/api/python/reference/pyspark.sql.html#functions) can be accessed through `pyspark.sql.functions`, this has been imported as `F` for ease of use. To perform a simple aggregation, you can call the function on a column name, then pass it to the `.select` method."
      ],
      "metadata": {
        "id": "z7Q8QZEcwkCP"
      }
    },
    {
      "cell_type": "code",
      "source": [
        "### EXAMPLE: Find the highest price of any book in the dataset\n",
        "\n",
        "# Find max price, select that column\n",
        "BooksDF.select(F.max('Price')).show()\n",
        "\n",
        "# To access the number in the DataFrame, use .first()[0]\n",
        "BooksDF.select(F.max('Price')).first()[0]\n"
      ],
      "metadata": {
        "colab": {
          "base_uri": "https://localhost:8080/"
        },
        "id": "OnZichi48M-B",
        "outputId": "7cf7146f-68e5-4268-fa0e-440f3300bf44"
      },
      "execution_count": null,
      "outputs": [
        {
          "output_type": "stream",
          "name": "stdout",
          "text": [
            "+----------+\n",
            "|max(Price)|\n",
            "+----------+\n",
            "|       105|\n",
            "+----------+\n",
            "\n"
          ]
        },
        {
          "output_type": "execute_result",
          "data": {
            "text/plain": [
              "105"
            ]
          },
          "metadata": {},
          "execution_count": 80
        }
      ]
    },
    {
      "cell_type": "code",
      "source": [
        "### Find the mean User Rating of all books in the dataset\n",
        "### Then use the .filter method to find the mean rating for\n",
        "### fiction and non fiction books\n",
        "# .select, .mean, .filter\n",
        "\n",
        "# select column mean(User Rating)\n",
        "BooksDF.select(F.mean('User Rating')).show()\n",
        "\n",
        "# filter DataFrame for Fiction and Non Fiction\n",
        "BooksDF.filter('Genre == \"Fiction\"')\\\n",
        "       .select(F.mean('User Rating')).show()\n",
        "BooksDF.filter('Genre == \"Non Fiction\"')\\\n",
        "       .select(F.mean('User Rating')).show()\n",
        "\n",
        "# Alternatively:\n",
        "mean_all = BooksDF.select(F.mean('User Rating')).first()[0]\n",
        "mean_fiction = BooksDF.filter('Genre == \"Fiction\"')\\\n",
        "       .select(F.mean('User Rating')).first()[0]\n",
        "mean_non_fiction = BooksDF.filter('Genre == \"Non Fiction\"')\\\n",
        "       .select(F.mean('User Rating')).first()[0]\n",
        "\n",
        "print(f'Mean Rating: {mean_all:.4f}')\n",
        "print(f'Mean Fiction Rating: {mean_fiction:.4f}')\n",
        "print(f'Mean Non Fiction Rating: {mean_non_fiction:.4f}')\n"
      ],
      "metadata": {
        "colab": {
          "base_uri": "https://localhost:8080/"
        },
        "id": "VMADFmCSt9kH",
        "outputId": "036c9948-ffd3-46c8-ee58-88981c43d91b"
      },
      "execution_count": null,
      "outputs": [
        {
          "output_type": "stream",
          "name": "stdout",
          "text": [
            "+-----------------+\n",
            "| avg(User Rating)|\n",
            "+-----------------+\n",
            "|4.627333333333343|\n",
            "+-----------------+\n",
            "\n",
            "+-----------------+\n",
            "| avg(User Rating)|\n",
            "+-----------------+\n",
            "|4.653992395437256|\n",
            "+-----------------+\n",
            "\n",
            "+-----------------+\n",
            "| avg(User Rating)|\n",
            "+-----------------+\n",
            "|4.606528189910978|\n",
            "+-----------------+\n",
            "\n",
            "Mean Rating: 4.6273\n",
            "Mean Fiction Rating: 4.6540\n",
            "Mean Non Fiction Rating: 4.6065\n"
          ]
        }
      ]
    },
    {
      "cell_type": "code",
      "source": [
        "### Use the .count aggregate function to find the number of fiction and\n",
        "### non fiction entries in the dataset\n",
        "\n",
        "# As before, filter by genre, use count in select\n",
        "# column in .count doesn't matter\n",
        "BooksDF.filter('Genre == \"Fiction\"')\\\n",
        "       .select(F.count('Genre')).show()\n",
        "\n",
        "BooksDF.filter('Genre == \"Non Fiction\"')\\\n",
        "       .select(F.count('Genre')).show()\n",
        "\n",
        "# This is ultimately a more complex way of doing:\n",
        "BooksDF.filter('Genre == \"Fiction\"').count()\n"
      ],
      "metadata": {
        "colab": {
          "base_uri": "https://localhost:8080/"
        },
        "id": "bGT0EM65yVgy",
        "outputId": "490c8d9d-4b92-46e7-9da2-32f1edc5a3ed"
      },
      "execution_count": null,
      "outputs": [
        {
          "output_type": "stream",
          "name": "stdout",
          "text": [
            "+------------+\n",
            "|count(Genre)|\n",
            "+------------+\n",
            "|         263|\n",
            "+------------+\n",
            "\n",
            "+------------+\n",
            "|count(Genre)|\n",
            "+------------+\n",
            "|         337|\n",
            "+------------+\n",
            "\n"
          ]
        },
        {
          "output_type": "execute_result",
          "data": {
            "text/plain": [
              "263"
            ]
          },
          "metadata": {},
          "execution_count": 82
        }
      ]
    },
    {
      "cell_type": "code",
      "source": [
        "### You aren't limited to selecting a single aggregate column\n",
        "### Using the .filter and .count_distinct functions, find the \n",
        "### number of unique books and authors in both genres\n",
        "\n",
        "# Hear we filter by genre, then select the distinct of Name and Author\n",
        "BooksDF.filter('Genre == \"Fiction\"')\\\n",
        "       .select(F.count_distinct('Name'),\n",
        "               F.count_distinct('Author')).show()\n",
        "\n",
        "BooksDF.filter('Genre == \"Non Fiction\"')\\\n",
        "       .select(F.count_distinct('Name'),\n",
        "               F.count_distinct('Author')).show()\n"
      ],
      "metadata": {
        "colab": {
          "base_uri": "https://localhost:8080/"
        },
        "id": "pvovOqvzyfFq",
        "outputId": "eb3a9334-e79e-4f3f-be12-4d95323faec5"
      },
      "execution_count": null,
      "outputs": [
        {
          "output_type": "stream",
          "name": "stdout",
          "text": [
            "+--------------------+----------------------+\n",
            "|count(DISTINCT Name)|count(DISTINCT Author)|\n",
            "+--------------------+----------------------+\n",
            "|                 177|                   100|\n",
            "+--------------------+----------------------+\n",
            "\n",
            "+--------------------+----------------------+\n",
            "|count(DISTINCT Name)|count(DISTINCT Author)|\n",
            "+--------------------+----------------------+\n",
            "|                 214|                   179|\n",
            "+--------------------+----------------------+\n",
            "\n"
          ]
        }
      ]
    },
    {
      "cell_type": "code",
      "source": [
        "### Use the .collect_set function to get a list of all the\n",
        "### unique authors in the dataset, in alphabetical order\n",
        "# .select, .sort_array, .collect_set\n",
        "\n",
        "# Call .collect_set separately so its tidier\n",
        "authors_set = F.collect_set('Author')\n",
        "\n",
        "# .sort_array sorts the results from .collect_set\n",
        "BooksDF.select(F.sort_array(authors_set))\\\n",
        "       .show(truncate=False)\n",
        "\n",
        "# We can see that there are some authors with leading spaces\n",
        "# .ltrim can clean those up\n",
        "authors_set = F.collect_set(F.ltrim('Author'))\n",
        "\n",
        "BooksDF.select(F.sort_array(authors_set))\\\n",
        "       .show(truncate=False)\n",
        "\n",
        "BooksDF.select(F.sort_array(authors_set)).first()[0]"
      ],
      "metadata": {
        "colab": {
          "base_uri": "https://localhost:8080/"
        },
        "id": "7NLCaAGVySPT",
        "outputId": "38e38b73-1f8d-48d9-9803-f2bdfb7b0559"
      },
      "execution_count": 5,
      "outputs": [
        {
          "output_type": "stream",
          "name": "stdout",
          "text": [
            "+--------------------------------------------------------------------------------------------------------------------------------------------------------------------------------------------------------------------------------------------------------------------------------------------------------------------------------------------------------------------------------------------------------------------------------------------------------------------------------------------------------------------------------------------------------------------------------------------------------------------------------------------------------------------------------------------------------------------------------------------------------------------------------------------------------------------------------------------------------------------------------------------------------------------------------------------------------------------------------------------------------------------------------------------------------------------------------------------------------------------------------------------------------------------------------------------------------------------------------------------------------------------------------------------------------------------------------------------------------------------------------------------------------------------------------------------------------------------------------------------------------------------------------------------------------------------------------------------------------------------------------------------------------------------------------------------------------------------------------------------------------------------------------------------------------------------------------------------------------------------------------------------------------------------------------------------------------------------------------------------------------------------------------------------------------------------------------------------------------------------------------------------------------------------------------------------------------------------------------------------------------------------------------------------------------------------------------------------------------------------------------------------------------------------------------------------------------------------------------------------------------------------------------------------------------------------------------------------------------------------------------------------------------------------------------------------------------------------------------------------------------------------------------------------------------------------------------------------------------------------------------------------------------------------------------------------------------------------------------------------------------------------------------------------------------------------------------------------------------------------------------------------------------------------------------------------------------------------------------------------------------------------------------------------------------------------------------------------------------------------------------------------------------------------------------------------------------------------------------------------------------------------------------------------------------------------------------------------------------------------------------------------------------------------------------------------------------------------------------------------------------------------------------------------------------------------------------------------------------------------------------------------------------------------------------------------------------------------------------------------------------------------------------------------------------------------------------------------------------------------------------------------------------------------------------------------------------------------------------------------------------------------------------------------------------------------------------------------------------------------------------------------------------------------------------------------------------------------------------------------------------------------------------------------+\n",
            "|sort_array(collect_set(Author), true)                                                                                                                                                                                                                                                                                                                                                                                                                                                                                                                                                                                                                                                                                                                                                                                                                                                                                                                                                                                                                                                                                                                                                                                                                                                                                                                                                                                                                                                                                                                                                                                                                                                                                                                                                                                                                                                                                                                                                                                                                                                                                                                                                                                                                                                                                                                                                                                                                                                                                                                                                                                                                                                                                                                                                                                                                                                                                                                                                                                                                                                                                                                                                                                                                                                                                                                                                                                                                                                                                                                                                                                                                                                                                                                                                                                                                                                                                                                                                                                                                                                                                                                                                                                                                                                                                                                                                                                                                                                                                                       |\n",
            "+--------------------------------------------------------------------------------------------------------------------------------------------------------------------------------------------------------------------------------------------------------------------------------------------------------------------------------------------------------------------------------------------------------------------------------------------------------------------------------------------------------------------------------------------------------------------------------------------------------------------------------------------------------------------------------------------------------------------------------------------------------------------------------------------------------------------------------------------------------------------------------------------------------------------------------------------------------------------------------------------------------------------------------------------------------------------------------------------------------------------------------------------------------------------------------------------------------------------------------------------------------------------------------------------------------------------------------------------------------------------------------------------------------------------------------------------------------------------------------------------------------------------------------------------------------------------------------------------------------------------------------------------------------------------------------------------------------------------------------------------------------------------------------------------------------------------------------------------------------------------------------------------------------------------------------------------------------------------------------------------------------------------------------------------------------------------------------------------------------------------------------------------------------------------------------------------------------------------------------------------------------------------------------------------------------------------------------------------------------------------------------------------------------------------------------------------------------------------------------------------------------------------------------------------------------------------------------------------------------------------------------------------------------------------------------------------------------------------------------------------------------------------------------------------------------------------------------------------------------------------------------------------------------------------------------------------------------------------------------------------------------------------------------------------------------------------------------------------------------------------------------------------------------------------------------------------------------------------------------------------------------------------------------------------------------------------------------------------------------------------------------------------------------------------------------------------------------------------------------------------------------------------------------------------------------------------------------------------------------------------------------------------------------------------------------------------------------------------------------------------------------------------------------------------------------------------------------------------------------------------------------------------------------------------------------------------------------------------------------------------------------------------------------------------------------------------------------------------------------------------------------------------------------------------------------------------------------------------------------------------------------------------------------------------------------------------------------------------------------------------------------------------------------------------------------------------------------------------------------------------------------------------------------------------+\n",
            "|[ Bill Martin Jr.,  Tara Westover ,  Workman Publishing, Abraham Verghese, Adam Gasiewski, Adam Mansbach, Adam Wallace, Adir Levy, Admiral William H. McRaven, Adult Coloring Book Designs, Alan Moore, Alex Michaelides, Alice Schertle, Allie Brosh, Amelia Hepworth, American Psychiatric Association, American Psychological Association, Amor Towles, Amy Ramos, Amy Shields, Andy Weir, Angie Grace, Angie Thomas, Ann Voskamp, Ann Whitford Paul, Anthony Bourdain, Anthony Doerr, Atul Gawande, Audrey Niffenegger, B. J. Novak, Barack Obama, Bessel van der Kolk M.D., Bill Martin Jr., Bill O'Reilly, Bill Simmons, Blue Star Coloring, Bob Woodward, Brandon Stanton, BreneÌ Brown, Brian Kilmeade, Brit Bennett, Bruce Springsteen, Carol S. Dweck, Carole P. Roman, Celeste Ng, Charlaine Harris, Charles Duhigg, Charles Krauthammer, Charlie Mackesy, Cheryl Strayed, Chip Gaines, Chip Heath, Chris Cleave, Chris Kyle, Chrissy Teigen, Christina Baker Kline, Christopher Paolini, Coloring Books for Adults, Conor Riordan , Craig Smith, Crispin Boyer, Crystal Radke, DK, Dale Carnegie, Dan Brown, Daniel H. Pink, Daniel James Brown, Daniel Kahneman, Daniel Lipkowitz, Dav Pilkey, Dave Ramsey, David Goggins, David Grann, David McCullough, David Perlmutter MD, David Platt, David Zinczenko, Deborah Diesen, Delegates of the ConstitutionalÂ…, Delia Owens, Dinah Bucholz, Don Miguel Ruiz, Don Miguel Ruiz , Donna Tartt, Doug Lemov, Dr. Seuss, Dr. Steven R Gundry MD, Drew Daywalt, E L James, Eben Alexander, Edward Klein, Edward M. Kennedy, Elie Wiesel, Elizabeth Strout, Emily Winfield Martin, Eric Carle, Eric Larson, Erik Larson, Ernest Cline, F. A. Hayek, F. Scott Fitzgerald, Francis Chan, Fredrik Backman, Gallup, Garth Stein, Gary Chapman, Gayle Forman, Geneen Roth, George Orwell, George R. R. Martin, George R.R. Martin, George W. Bush, Giles Andreae, Gillian Flynn, Glenn Beck, Glennon Doyle, Golden Books, Greg Mortenson, Harper Lee, Heidi Murkoff, Hillary Rodham Clinton, Hopscotch Girls, Howard Stern, Ian K. Smith M.D., Ibram X. Kendi, Ina Garten, Isabel Wilkerson, J. D. Vance, J. K. Rowling, J.K. Rowling, JJ Smith, James Clear, James Comey, James Dashner, James Patterson, Jay Asher, Jaycee Dugard, Jeanine Cummins, Jeff Kinney, Jen Sincero, Jennie Allen, Jennifer Smith, Jill Twiss, Jim Collins, Joanna Gaines, Joel Fuhrman MD, Johanna Basford, John Bolton, John Green, John Grisham, John Heilemann, Jon Meacham, Jon Stewart, Jonathan Cahn, Jordan B. Peterson, Julia Child, Justin Halpern, Kathryn Stockett, Katie Stokes, Keith Richards, Ken Follett, Kevin Kwan, Khaled Hosseini, Kristin Hannah, Larry Schweikart, Laura Hillenbrand, Laurel Randolph, Lin-Manuel Miranda, Lysa TerKeurst, M Prefontaine, Madeleine L'Engle, Malcolm Gladwell, Margaret Atwood, Margaret Wise Brown, Marie KondÅ, Marjorie Sarnat, Mark Hyman M.D., Mark Manson, Mark Owen, Mark R. Levin, Mark Twain, Markus Zusak, Marty Noble, Mary Ann Shaffer, Mary L. Trump Ph.D. , Matthew McConaughey, Maurice Sendak, Melissa Hartwig Urban, Michael Lewis, Michael Pollan, Michael Wolff, Michelle Obama, Mike Moreno, Mitch Albom, Muriel Barbery, Naomi Kleinberg, Nathan W. Pyle, National Geographic Kids, Neil deGrasse Tyson, Paper Peony Press, Patrick Lencioni, Patrick Thorpe, Paul Kalanithi, Paula Hawkins, Paula McLain, Paulo Coelho, Pete Souza, Peter A. Lillback, Phil Robertson, Pierre Dukan, Pretty Simple Press, R. J. Palacio, RH Disney, Rachel Hollis, Raina Telgemeier, Randall Munroe, Randy Pausch, Ray Bradbury, Rebecca Skloot, Ree Drummond, Rick Riordan, Rob Bell, Rob Elliott, Robert Jordan, Robert Munsch, Robin DiAngelo, Rod Campbell, Roger Priddy, Ron Chernow, Rupi Kaur, Rush Limbaugh, Samin Nosrat, Sandra Boynton, Sara Gruen, Sarah Palin, Sarah Young, Sasha O'Hara, Scholastic, School Zone, Sean Hannity, Shannon Roberts, Sharon Jones, Sherri Duskey Rinker, Sheryl Sandberg, Silly Bear, Stephen Kendrick, Stephen King, Stephen R. Covey, Stephenie Meyer, Steve Harvey, Steven D. Levitt, Stieg Larsson, Susan Cain, Suzanne Collins, Ta-Nehisi Coates, Tara Westover, Tatiana de Rosnay, The College Board, The Staff of The Late Show withÂ…, The Washington Post, Thomas Campbell, Thomas Piketty, Thug Kitchen, Timothy Ferriss, Tina Fey, Todd Burpo, Tony Hsieh, Tucker Carlson, Veronica Roth, W. Cleon Skousen, Walter Isaacson, William Davis, William P. Young, Wizards RPG Team, Zhi Gang Sha]|\n",
            "+--------------------------------------------------------------------------------------------------------------------------------------------------------------------------------------------------------------------------------------------------------------------------------------------------------------------------------------------------------------------------------------------------------------------------------------------------------------------------------------------------------------------------------------------------------------------------------------------------------------------------------------------------------------------------------------------------------------------------------------------------------------------------------------------------------------------------------------------------------------------------------------------------------------------------------------------------------------------------------------------------------------------------------------------------------------------------------------------------------------------------------------------------------------------------------------------------------------------------------------------------------------------------------------------------------------------------------------------------------------------------------------------------------------------------------------------------------------------------------------------------------------------------------------------------------------------------------------------------------------------------------------------------------------------------------------------------------------------------------------------------------------------------------------------------------------------------------------------------------------------------------------------------------------------------------------------------------------------------------------------------------------------------------------------------------------------------------------------------------------------------------------------------------------------------------------------------------------------------------------------------------------------------------------------------------------------------------------------------------------------------------------------------------------------------------------------------------------------------------------------------------------------------------------------------------------------------------------------------------------------------------------------------------------------------------------------------------------------------------------------------------------------------------------------------------------------------------------------------------------------------------------------------------------------------------------------------------------------------------------------------------------------------------------------------------------------------------------------------------------------------------------------------------------------------------------------------------------------------------------------------------------------------------------------------------------------------------------------------------------------------------------------------------------------------------------------------------------------------------------------------------------------------------------------------------------------------------------------------------------------------------------------------------------------------------------------------------------------------------------------------------------------------------------------------------------------------------------------------------------------------------------------------------------------------------------------------------------------------------------------------------------------------------------------------------------------------------------------------------------------------------------------------------------------------------------------------------------------------------------------------------------------------------------------------------------------------------------------------------------------------------------------------------------------------------------------------------------------------------------------------------------------------------------------+\n",
            "\n",
            "+------------------------------------------------------------------------------------------------------------------------------------------------------------------------------------------------------------------------------------------------------------------------------------------------------------------------------------------------------------------------------------------------------------------------------------------------------------------------------------------------------------------------------------------------------------------------------------------------------------------------------------------------------------------------------------------------------------------------------------------------------------------------------------------------------------------------------------------------------------------------------------------------------------------------------------------------------------------------------------------------------------------------------------------------------------------------------------------------------------------------------------------------------------------------------------------------------------------------------------------------------------------------------------------------------------------------------------------------------------------------------------------------------------------------------------------------------------------------------------------------------------------------------------------------------------------------------------------------------------------------------------------------------------------------------------------------------------------------------------------------------------------------------------------------------------------------------------------------------------------------------------------------------------------------------------------------------------------------------------------------------------------------------------------------------------------------------------------------------------------------------------------------------------------------------------------------------------------------------------------------------------------------------------------------------------------------------------------------------------------------------------------------------------------------------------------------------------------------------------------------------------------------------------------------------------------------------------------------------------------------------------------------------------------------------------------------------------------------------------------------------------------------------------------------------------------------------------------------------------------------------------------------------------------------------------------------------------------------------------------------------------------------------------------------------------------------------------------------------------------------------------------------------------------------------------------------------------------------------------------------------------------------------------------------------------------------------------------------------------------------------------------------------------------------------------------------------------------------------------------------------------------------------------------------------------------------------------------------------------------------------------------------------------------------------------------------------------------------------------------------------------------------------------------------------------------------------------------------------------------------------------------------------------------------------------------------------------------------------------------------------------------------------------------------------------------------------------------------------------------------------------------------------------------------------------------------------------------------------------------------------------------------------------------------------------------------------------------------------------------------------------------------------------------------------------------------------------------------------------------------------------------------+\n",
            "|sort_array(collect_set(ltrim(Author)), true)                                                                                                                                                                                                                                                                                                                                                                                                                                                                                                                                                                                                                                                                                                                                                                                                                                                                                                                                                                                                                                                                                                                                                                                                                                                                                                                                                                                                                                                                                                                                                                                                                                                                                                                                                                                                                                                                                                                                                                                                                                                                                                                                                                                                                                                                                                                                                                                                                                                                                                                                                                                                                                                                                                                                                                                                                                                                                                                                                                                                                                                                                                                                                                                                                                                                                                                                                                                                                                                                                                                                                                                                                                                                                                                                                                                                                                                                                                                                                                                                                                                                                                                                                                                                                                                                                                                                                                                                                                                                            |\n",
            "+------------------------------------------------------------------------------------------------------------------------------------------------------------------------------------------------------------------------------------------------------------------------------------------------------------------------------------------------------------------------------------------------------------------------------------------------------------------------------------------------------------------------------------------------------------------------------------------------------------------------------------------------------------------------------------------------------------------------------------------------------------------------------------------------------------------------------------------------------------------------------------------------------------------------------------------------------------------------------------------------------------------------------------------------------------------------------------------------------------------------------------------------------------------------------------------------------------------------------------------------------------------------------------------------------------------------------------------------------------------------------------------------------------------------------------------------------------------------------------------------------------------------------------------------------------------------------------------------------------------------------------------------------------------------------------------------------------------------------------------------------------------------------------------------------------------------------------------------------------------------------------------------------------------------------------------------------------------------------------------------------------------------------------------------------------------------------------------------------------------------------------------------------------------------------------------------------------------------------------------------------------------------------------------------------------------------------------------------------------------------------------------------------------------------------------------------------------------------------------------------------------------------------------------------------------------------------------------------------------------------------------------------------------------------------------------------------------------------------------------------------------------------------------------------------------------------------------------------------------------------------------------------------------------------------------------------------------------------------------------------------------------------------------------------------------------------------------------------------------------------------------------------------------------------------------------------------------------------------------------------------------------------------------------------------------------------------------------------------------------------------------------------------------------------------------------------------------------------------------------------------------------------------------------------------------------------------------------------------------------------------------------------------------------------------------------------------------------------------------------------------------------------------------------------------------------------------------------------------------------------------------------------------------------------------------------------------------------------------------------------------------------------------------------------------------------------------------------------------------------------------------------------------------------------------------------------------------------------------------------------------------------------------------------------------------------------------------------------------------------------------------------------------------------------------------------------------------------------------------------------------------------------+\n",
            "|[Abraham Verghese, Adam Gasiewski, Adam Mansbach, Adam Wallace, Adir Levy, Admiral William H. McRaven, Adult Coloring Book Designs, Alan Moore, Alex Michaelides, Alice Schertle, Allie Brosh, Amelia Hepworth, American Psychiatric Association, American Psychological Association, Amor Towles, Amy Ramos, Amy Shields, Andy Weir, Angie Grace, Angie Thomas, Ann Voskamp, Ann Whitford Paul, Anthony Bourdain, Anthony Doerr, Atul Gawande, Audrey Niffenegger, B. J. Novak, Barack Obama, Bessel van der Kolk M.D., Bill Martin Jr., Bill O'Reilly, Bill Simmons, Blue Star Coloring, Bob Woodward, Brandon Stanton, BreneÌ Brown, Brian Kilmeade, Brit Bennett, Bruce Springsteen, Carol S. Dweck, Carole P. Roman, Celeste Ng, Charlaine Harris, Charles Duhigg, Charles Krauthammer, Charlie Mackesy, Cheryl Strayed, Chip Gaines, Chip Heath, Chris Cleave, Chris Kyle, Chrissy Teigen, Christina Baker Kline, Christopher Paolini, Coloring Books for Adults, Conor Riordan , Craig Smith, Crispin Boyer, Crystal Radke, DK, Dale Carnegie, Dan Brown, Daniel H. Pink, Daniel James Brown, Daniel Kahneman, Daniel Lipkowitz, Dav Pilkey, Dave Ramsey, David Goggins, David Grann, David McCullough, David Perlmutter MD, David Platt, David Zinczenko, Deborah Diesen, Delegates of the ConstitutionalÂ…, Delia Owens, Dinah Bucholz, Don Miguel Ruiz, Don Miguel Ruiz , Donna Tartt, Doug Lemov, Dr. Seuss, Dr. Steven R Gundry MD, Drew Daywalt, E L James, Eben Alexander, Edward Klein, Edward M. Kennedy, Elie Wiesel, Elizabeth Strout, Emily Winfield Martin, Eric Carle, Eric Larson, Erik Larson, Ernest Cline, F. A. Hayek, F. Scott Fitzgerald, Francis Chan, Fredrik Backman, Gallup, Garth Stein, Gary Chapman, Gayle Forman, Geneen Roth, George Orwell, George R. R. Martin, George R.R. Martin, George W. Bush, Giles Andreae, Gillian Flynn, Glenn Beck, Glennon Doyle, Golden Books, Greg Mortenson, Harper Lee, Heidi Murkoff, Hillary Rodham Clinton, Hopscotch Girls, Howard Stern, Ian K. Smith M.D., Ibram X. Kendi, Ina Garten, Isabel Wilkerson, J. D. Vance, J. K. Rowling, J.K. Rowling, JJ Smith, James Clear, James Comey, James Dashner, James Patterson, Jay Asher, Jaycee Dugard, Jeanine Cummins, Jeff Kinney, Jen Sincero, Jennie Allen, Jennifer Smith, Jill Twiss, Jim Collins, Joanna Gaines, Joel Fuhrman MD, Johanna Basford, John Bolton, John Green, John Grisham, John Heilemann, Jon Meacham, Jon Stewart, Jonathan Cahn, Jordan B. Peterson, Julia Child, Justin Halpern, Kathryn Stockett, Katie Stokes, Keith Richards, Ken Follett, Kevin Kwan, Khaled Hosseini, Kristin Hannah, Larry Schweikart, Laura Hillenbrand, Laurel Randolph, Lin-Manuel Miranda, Lysa TerKeurst, M Prefontaine, Madeleine L'Engle, Malcolm Gladwell, Margaret Atwood, Margaret Wise Brown, Marie KondÅ, Marjorie Sarnat, Mark Hyman M.D., Mark Manson, Mark Owen, Mark R. Levin, Mark Twain, Markus Zusak, Marty Noble, Mary Ann Shaffer, Mary L. Trump Ph.D. , Matthew McConaughey, Maurice Sendak, Melissa Hartwig Urban, Michael Lewis, Michael Pollan, Michael Wolff, Michelle Obama, Mike Moreno, Mitch Albom, Muriel Barbery, Naomi Kleinberg, Nathan W. Pyle, National Geographic Kids, Neil deGrasse Tyson, Paper Peony Press, Patrick Lencioni, Patrick Thorpe, Paul Kalanithi, Paula Hawkins, Paula McLain, Paulo Coelho, Pete Souza, Peter A. Lillback, Phil Robertson, Pierre Dukan, Pretty Simple Press, R. J. Palacio, RH Disney, Rachel Hollis, Raina Telgemeier, Randall Munroe, Randy Pausch, Ray Bradbury, Rebecca Skloot, Ree Drummond, Rick Riordan, Rob Bell, Rob Elliott, Robert Jordan, Robert Munsch, Robin DiAngelo, Rod Campbell, Roger Priddy, Ron Chernow, Rupi Kaur, Rush Limbaugh, Samin Nosrat, Sandra Boynton, Sara Gruen, Sarah Palin, Sarah Young, Sasha O'Hara, Scholastic, School Zone, Sean Hannity, Shannon Roberts, Sharon Jones, Sherri Duskey Rinker, Sheryl Sandberg, Silly Bear, Stephen Kendrick, Stephen King, Stephen R. Covey, Stephenie Meyer, Steve Harvey, Steven D. Levitt, Stieg Larsson, Susan Cain, Suzanne Collins, Ta-Nehisi Coates, Tara Westover, Tara Westover , Tatiana de Rosnay, The College Board, The Staff of The Late Show withÂ…, The Washington Post, Thomas Campbell, Thomas Piketty, Thug Kitchen, Timothy Ferriss, Tina Fey, Todd Burpo, Tony Hsieh, Tucker Carlson, Veronica Roth, W. Cleon Skousen, Walter Isaacson, William Davis, William P. Young, Wizards RPG Team, Workman Publishing, Zhi Gang Sha]|\n",
            "+------------------------------------------------------------------------------------------------------------------------------------------------------------------------------------------------------------------------------------------------------------------------------------------------------------------------------------------------------------------------------------------------------------------------------------------------------------------------------------------------------------------------------------------------------------------------------------------------------------------------------------------------------------------------------------------------------------------------------------------------------------------------------------------------------------------------------------------------------------------------------------------------------------------------------------------------------------------------------------------------------------------------------------------------------------------------------------------------------------------------------------------------------------------------------------------------------------------------------------------------------------------------------------------------------------------------------------------------------------------------------------------------------------------------------------------------------------------------------------------------------------------------------------------------------------------------------------------------------------------------------------------------------------------------------------------------------------------------------------------------------------------------------------------------------------------------------------------------------------------------------------------------------------------------------------------------------------------------------------------------------------------------------------------------------------------------------------------------------------------------------------------------------------------------------------------------------------------------------------------------------------------------------------------------------------------------------------------------------------------------------------------------------------------------------------------------------------------------------------------------------------------------------------------------------------------------------------------------------------------------------------------------------------------------------------------------------------------------------------------------------------------------------------------------------------------------------------------------------------------------------------------------------------------------------------------------------------------------------------------------------------------------------------------------------------------------------------------------------------------------------------------------------------------------------------------------------------------------------------------------------------------------------------------------------------------------------------------------------------------------------------------------------------------------------------------------------------------------------------------------------------------------------------------------------------------------------------------------------------------------------------------------------------------------------------------------------------------------------------------------------------------------------------------------------------------------------------------------------------------------------------------------------------------------------------------------------------------------------------------------------------------------------------------------------------------------------------------------------------------------------------------------------------------------------------------------------------------------------------------------------------------------------------------------------------------------------------------------------------------------------------------------------------------------------------------------------------------------------------------------------------------------+\n",
            "\n"
          ]
        },
        {
          "output_type": "execute_result",
          "data": {
            "text/plain": [
              "['Abraham Verghese',\n",
              " 'Adam Gasiewski',\n",
              " 'Adam Mansbach',\n",
              " 'Adam Wallace',\n",
              " 'Adir Levy',\n",
              " 'Admiral William H. McRaven',\n",
              " 'Adult Coloring Book Designs',\n",
              " 'Alan Moore',\n",
              " 'Alex Michaelides',\n",
              " 'Alice Schertle',\n",
              " 'Allie Brosh',\n",
              " 'Amelia Hepworth',\n",
              " 'American Psychiatric Association',\n",
              " 'American Psychological Association',\n",
              " 'Amor Towles',\n",
              " 'Amy Ramos',\n",
              " 'Amy Shields',\n",
              " 'Andy Weir',\n",
              " 'Angie Grace',\n",
              " 'Angie Thomas',\n",
              " 'Ann Voskamp',\n",
              " 'Ann Whitford Paul',\n",
              " 'Anthony Bourdain',\n",
              " 'Anthony Doerr',\n",
              " 'Atul Gawande',\n",
              " 'Audrey Niffenegger',\n",
              " 'B. J. Novak',\n",
              " 'Barack Obama',\n",
              " 'Bessel van der Kolk M.D.',\n",
              " 'Bill Martin Jr.',\n",
              " \"Bill O'Reilly\",\n",
              " 'Bill Simmons',\n",
              " 'Blue Star Coloring',\n",
              " 'Bob Woodward',\n",
              " 'Brandon Stanton',\n",
              " 'BreneÌ\\x81 Brown',\n",
              " 'Brian Kilmeade',\n",
              " 'Brit Bennett',\n",
              " 'Bruce Springsteen',\n",
              " 'Carol S. Dweck',\n",
              " 'Carole P. Roman',\n",
              " 'Celeste Ng',\n",
              " 'Charlaine Harris',\n",
              " 'Charles Duhigg',\n",
              " 'Charles Krauthammer',\n",
              " 'Charlie Mackesy',\n",
              " 'Cheryl Strayed',\n",
              " 'Chip Gaines',\n",
              " 'Chip Heath',\n",
              " 'Chris Cleave',\n",
              " 'Chris Kyle',\n",
              " 'Chrissy Teigen',\n",
              " 'Christina Baker Kline',\n",
              " 'Christopher Paolini',\n",
              " 'Coloring Books for Adults',\n",
              " 'Conor Riordan ',\n",
              " 'Craig Smith',\n",
              " 'Crispin Boyer',\n",
              " 'Crystal Radke',\n",
              " 'DK',\n",
              " 'Dale Carnegie',\n",
              " 'Dan Brown',\n",
              " 'Daniel H. Pink',\n",
              " 'Daniel James Brown',\n",
              " 'Daniel Kahneman',\n",
              " 'Daniel Lipkowitz',\n",
              " 'Dav Pilkey',\n",
              " 'Dave Ramsey',\n",
              " 'David Goggins',\n",
              " 'David Grann',\n",
              " 'David McCullough',\n",
              " 'David Perlmutter MD',\n",
              " 'David Platt',\n",
              " 'David Zinczenko',\n",
              " 'Deborah Diesen',\n",
              " 'Delegates of the ConstitutionalÂ…',\n",
              " 'Delia Owens',\n",
              " 'Dinah Bucholz',\n",
              " 'Don Miguel Ruiz',\n",
              " 'Don Miguel Ruiz ',\n",
              " 'Donna Tartt',\n",
              " 'Doug Lemov',\n",
              " 'Dr. Seuss',\n",
              " 'Dr. Steven R Gundry MD',\n",
              " 'Drew Daywalt',\n",
              " 'E L James',\n",
              " 'Eben Alexander',\n",
              " 'Edward Klein',\n",
              " 'Edward M. Kennedy',\n",
              " 'Elie Wiesel',\n",
              " 'Elizabeth Strout',\n",
              " 'Emily Winfield Martin',\n",
              " 'Eric Carle',\n",
              " 'Eric Larson',\n",
              " 'Erik Larson',\n",
              " 'Ernest Cline',\n",
              " 'F. A. Hayek',\n",
              " 'F. Scott Fitzgerald',\n",
              " 'Francis Chan',\n",
              " 'Fredrik Backman',\n",
              " 'Gallup',\n",
              " 'Garth Stein',\n",
              " 'Gary Chapman',\n",
              " 'Gayle Forman',\n",
              " 'Geneen Roth',\n",
              " 'George Orwell',\n",
              " 'George R. R. Martin',\n",
              " 'George R.R. Martin',\n",
              " 'George W. Bush',\n",
              " 'Giles Andreae',\n",
              " 'Gillian Flynn',\n",
              " 'Glenn Beck',\n",
              " 'Glennon Doyle',\n",
              " 'Golden Books',\n",
              " 'Greg Mortenson',\n",
              " 'Harper Lee',\n",
              " 'Heidi Murkoff',\n",
              " 'Hillary Rodham Clinton',\n",
              " 'Hopscotch Girls',\n",
              " 'Howard Stern',\n",
              " 'Ian K. Smith M.D.',\n",
              " 'Ibram X. Kendi',\n",
              " 'Ina Garten',\n",
              " 'Isabel Wilkerson',\n",
              " 'J. D. Vance',\n",
              " 'J. K. Rowling',\n",
              " 'J.K. Rowling',\n",
              " 'JJ Smith',\n",
              " 'James Clear',\n",
              " 'James Comey',\n",
              " 'James Dashner',\n",
              " 'James Patterson',\n",
              " 'Jay Asher',\n",
              " 'Jaycee Dugard',\n",
              " 'Jeanine Cummins',\n",
              " 'Jeff Kinney',\n",
              " 'Jen Sincero',\n",
              " 'Jennie Allen',\n",
              " 'Jennifer Smith',\n",
              " 'Jill Twiss',\n",
              " 'Jim Collins',\n",
              " 'Joanna Gaines',\n",
              " 'Joel Fuhrman MD',\n",
              " 'Johanna Basford',\n",
              " 'John Bolton',\n",
              " 'John Green',\n",
              " 'John Grisham',\n",
              " 'John Heilemann',\n",
              " 'Jon Meacham',\n",
              " 'Jon Stewart',\n",
              " 'Jonathan Cahn',\n",
              " 'Jordan B. Peterson',\n",
              " 'Julia Child',\n",
              " 'Justin Halpern',\n",
              " 'Kathryn Stockett',\n",
              " 'Katie Stokes',\n",
              " 'Keith Richards',\n",
              " 'Ken Follett',\n",
              " 'Kevin Kwan',\n",
              " 'Khaled Hosseini',\n",
              " 'Kristin Hannah',\n",
              " 'Larry Schweikart',\n",
              " 'Laura Hillenbrand',\n",
              " 'Laurel Randolph',\n",
              " 'Lin-Manuel Miranda',\n",
              " 'Lysa TerKeurst',\n",
              " 'M Prefontaine',\n",
              " \"Madeleine L'Engle\",\n",
              " 'Malcolm Gladwell',\n",
              " 'Margaret Atwood',\n",
              " 'Margaret Wise Brown',\n",
              " 'Marie KondÅ\\x8d',\n",
              " 'Marjorie Sarnat',\n",
              " 'Mark Hyman M.D.',\n",
              " 'Mark Manson',\n",
              " 'Mark Owen',\n",
              " 'Mark R. Levin',\n",
              " 'Mark Twain',\n",
              " 'Markus Zusak',\n",
              " 'Marty Noble',\n",
              " 'Mary Ann Shaffer',\n",
              " 'Mary L. Trump Ph.D. ',\n",
              " 'Matthew McConaughey',\n",
              " 'Maurice Sendak',\n",
              " 'Melissa Hartwig Urban',\n",
              " 'Michael Lewis',\n",
              " 'Michael Pollan',\n",
              " 'Michael Wolff',\n",
              " 'Michelle Obama',\n",
              " 'Mike Moreno',\n",
              " 'Mitch Albom',\n",
              " 'Muriel Barbery',\n",
              " 'Naomi Kleinberg',\n",
              " 'Nathan W. Pyle',\n",
              " 'National Geographic Kids',\n",
              " 'Neil deGrasse Tyson',\n",
              " 'Paper Peony Press',\n",
              " 'Patrick Lencioni',\n",
              " 'Patrick Thorpe',\n",
              " 'Paul Kalanithi',\n",
              " 'Paula Hawkins',\n",
              " 'Paula McLain',\n",
              " 'Paulo Coelho',\n",
              " 'Pete Souza',\n",
              " 'Peter A. Lillback',\n",
              " 'Phil Robertson',\n",
              " 'Pierre Dukan',\n",
              " 'Pretty Simple Press',\n",
              " 'R. J. Palacio',\n",
              " 'RH Disney',\n",
              " 'Rachel Hollis',\n",
              " 'Raina Telgemeier',\n",
              " 'Randall Munroe',\n",
              " 'Randy Pausch',\n",
              " 'Ray Bradbury',\n",
              " 'Rebecca Skloot',\n",
              " 'Ree Drummond',\n",
              " 'Rick Riordan',\n",
              " 'Rob Bell',\n",
              " 'Rob Elliott',\n",
              " 'Robert Jordan',\n",
              " 'Robert Munsch',\n",
              " 'Robin DiAngelo',\n",
              " 'Rod Campbell',\n",
              " 'Roger Priddy',\n",
              " 'Ron Chernow',\n",
              " 'Rupi Kaur',\n",
              " 'Rush Limbaugh',\n",
              " 'Samin Nosrat',\n",
              " 'Sandra Boynton',\n",
              " 'Sara Gruen',\n",
              " 'Sarah Palin',\n",
              " 'Sarah Young',\n",
              " \"Sasha O'Hara\",\n",
              " 'Scholastic',\n",
              " 'School Zone',\n",
              " 'Sean Hannity',\n",
              " 'Shannon Roberts',\n",
              " 'Sharon Jones',\n",
              " 'Sherri Duskey Rinker',\n",
              " 'Sheryl Sandberg',\n",
              " 'Silly Bear',\n",
              " 'Stephen Kendrick',\n",
              " 'Stephen King',\n",
              " 'Stephen R. Covey',\n",
              " 'Stephenie Meyer',\n",
              " 'Steve Harvey',\n",
              " 'Steven D. Levitt',\n",
              " 'Stieg Larsson',\n",
              " 'Susan Cain',\n",
              " 'Suzanne Collins',\n",
              " 'Ta-Nehisi Coates',\n",
              " 'Tara Westover',\n",
              " 'Tara Westover ',\n",
              " 'Tatiana de Rosnay',\n",
              " 'The College Board',\n",
              " 'The Staff of The Late Show withÂ…',\n",
              " 'The Washington Post',\n",
              " 'Thomas Campbell',\n",
              " 'Thomas Piketty',\n",
              " 'Thug Kitchen',\n",
              " 'Timothy Ferriss',\n",
              " 'Tina Fey',\n",
              " 'Todd Burpo',\n",
              " 'Tony Hsieh',\n",
              " 'Tucker Carlson',\n",
              " 'Veronica Roth',\n",
              " 'W. Cleon Skousen',\n",
              " 'Walter Isaacson',\n",
              " 'William Davis',\n",
              " 'William P. Young',\n",
              " 'Wizards RPG Team',\n",
              " 'Workman Publishing',\n",
              " 'Zhi Gang Sha']"
            ]
          },
          "metadata": {},
          "execution_count": 5
        }
      ]
    },
    {
      "cell_type": "markdown",
      "source": [
        "# Exercise 3\n",
        "\n",
        "The `.groupBy()` method produces a GroupedData object, which can in turn be used to perform aggregations. You can even group over multiple columns."
      ],
      "metadata": {
        "id": "qem_nGri0wwV"
      }
    },
    {
      "cell_type": "code",
      "source": [
        "### EXAMPLE: Find the mean and standard deviation of prices for each year\n",
        "\n",
        "# group by year, feed aggregations into .agg, use .alias to rename new columns\n",
        "BooksDF.groupBy('Year')\\\n",
        "       .agg(F.mean('Price').alias('Mean_price'),\n",
        "            F.stddev('Price').alias('StdDev_price'))\\\n",
        "       .show()"
      ],
      "metadata": {
        "colab": {
          "base_uri": "https://localhost:8080/"
        },
        "id": "Xnks2pAY-GKP",
        "outputId": "ea7c10c4-69ab-40df-986a-e69bc3f0067a"
      },
      "execution_count": null,
      "outputs": [
        {
          "output_type": "stream",
          "name": "stdout",
          "text": [
            "+----+----------+------------------+\n",
            "|Year|Mean_price|      StdDev_price|\n",
            "+----+----------+------------------+\n",
            "|2018|     10.52| 7.473053633705898|\n",
            "|2015|     10.42| 7.074213016012336|\n",
            "|2013|      14.6| 15.52351737966414|\n",
            "|2014|     14.64| 16.56990140746351|\n",
            "|2019|     10.08| 4.902477507779685|\n",
            "|2020|     10.94| 5.056456773476939|\n",
            "|2012|      15.3| 8.769729942552742|\n",
            "|2009|      15.4|14.048022593073739|\n",
            "|2016|     13.18|11.814363447662737|\n",
            "|2010|     13.48| 8.164732521207117|\n",
            "|2011|      15.1| 8.846191386173844|\n",
            "|2017|     11.38| 8.193800543516957|\n",
            "+----+----------+------------------+\n",
            "\n"
          ]
        }
      ]
    },
    {
      "cell_type": "code",
      "source": [
        "### Use the .groupBy method produce a single DataFrame containing\n",
        "### the mean User Rating, number of entries, unique book count,\n",
        "### and unique author count for Fiction and Non Fiction books\n",
        "# You may find it useful to use Column expressions\n",
        "# .count, .count_distinct, .mean, .groupBy, .agg\n",
        "\n",
        "# set up the aggregations as new columns\n",
        "n_entries = F.count('Genre').alias('N_entries')\n",
        "n_books = F.count_distinct('Name').alias('N_books')\n",
        "n_authors = F.count_distinct('Author').alias('N_authors')\n",
        "mean_rating = F.mean('User Rating').alias('Mean_Rating')\n",
        "\n",
        "# group by genre, then feed the aggregates into .agg\n",
        "BooksDF.groupBy('Genre').agg(n_entries,\n",
        "                             n_books,\n",
        "                             n_authors,\n",
        "                             mean_rating).show()"
      ],
      "metadata": {
        "colab": {
          "base_uri": "https://localhost:8080/"
        },
        "id": "X6-AU71wzq3N",
        "outputId": "e7b281d2-40cd-4613-db6f-c254eafd1ae1"
      },
      "execution_count": null,
      "outputs": [
        {
          "output_type": "stream",
          "name": "stdout",
          "text": [
            "+-----------+---------+-------+---------+-----------------+\n",
            "|      Genre|N_entries|N_books|N_authors|      Mean_Rating|\n",
            "+-----------+---------+-------+---------+-----------------+\n",
            "|    Fiction|      263|    177|      100|4.653992395437256|\n",
            "|Non Fiction|      337|    214|      179|4.606528189910978|\n",
            "+-----------+---------+-------+---------+-----------------+\n",
            "\n"
          ]
        }
      ]
    },
    {
      "cell_type": "code",
      "source": [
        "### Find the top rated book—in terms of Rating and number of Reviews—for\n",
        "### each year in the dataset. Display both the name of the book, and the\n",
        "### author\n",
        "# .sort, .groupBy, .agg, .first\n",
        "# Optional: .col, .desc\n",
        "\n",
        "# Use col().desc() to sort the columns correctly\n",
        "# .first returns the first entry in each group\n",
        "BooksDF.sort(F.col('User Rating').desc(),\n",
        "             F.col('Reviews').desc())\\\n",
        "       .groupBy('Year')\\\n",
        "       .agg(F.first('Name'),\n",
        "            F.first('Author'))\\\n",
        "       .show()"
      ],
      "metadata": {
        "colab": {
          "base_uri": "https://localhost:8080/"
        },
        "id": "ki0M3v6E15Nr",
        "outputId": "4f31fee7-f655-4f6b-eb47-9ee0ebfc0a0a"
      },
      "execution_count": null,
      "outputs": [
        {
          "output_type": "stream",
          "name": "stdout",
          "text": [
            "+----+--------------------+-----------------+\n",
            "|Year|         first(Name)|    first(Author)|\n",
            "+----+--------------------+-----------------+\n",
            "|2009|            The Help| Kathryn Stockett|\n",
            "|2010|Unbroken: A World...|Laura Hillenbrand|\n",
            "|2011|Jesus Calling: En...|      Sarah Young|\n",
            "|2012|Oh, the Places Yo...|        Dr. Seuss|\n",
            "|2013|Oh, the Places Yo...|        Dr. Seuss|\n",
            "|2014|Oh, the Places Yo...|        Dr. Seuss|\n",
            "|2015|Oh, the Places Yo...|        Dr. Seuss|\n",
            "|2016|Oh, the Places Yo...|        Dr. Seuss|\n",
            "|2017|Oh, the Places Yo...|        Dr. Seuss|\n",
            "|2018|Oh, the Places Yo...|        Dr. Seuss|\n",
            "|2019|Oh, the Places Yo...|        Dr. Seuss|\n",
            "|2020|     A Promised Land|     Barack Obama|\n",
            "+----+--------------------+-----------------+\n",
            "\n"
          ]
        }
      ]
    },
    {
      "cell_type": "code",
      "source": [
        "### As above, but do this separately for Fiction and Non Fiction\n",
        "# .sort, .groupBy, .agg, .first\n",
        "# Optional: .col, .desc\n",
        "\n",
        "# As previously, but this time we get groups for each year/genre pair\n",
        "BooksDF.sort(F.col('User Rating').desc(),\n",
        "             F.col('Reviews').desc())\\\n",
        "       .groupBy('Year', 'Genre')\\\n",
        "       .agg(F.first('Name'),\n",
        "            F.first('Author'))\\\n",
        "       .show(24, truncate=False)"
      ],
      "metadata": {
        "colab": {
          "base_uri": "https://localhost:8080/"
        },
        "id": "lfkZkoWI2f_B",
        "outputId": "e847daed-338a-4f2e-85a5-b10e1a3cbfff"
      },
      "execution_count": null,
      "outputs": [
        {
          "output_type": "stream",
          "name": "stdout",
          "text": [
            "+----+-----------+-------------------------------------------------------------------------+-----------------+\n",
            "|Year|Genre      |first(Name)                                                              |first(Author)    |\n",
            "+----+-----------+-------------------------------------------------------------------------+-----------------+\n",
            "|2009|Fiction    |The Help                                                                 |Kathryn Stockett |\n",
            "|2009|Non Fiction|Liberty and Tyranny: A Conservative Manifesto                            |Mark R. Levin    |\n",
            "|2010|Fiction    |The Help                                                                 |Kathryn Stockett |\n",
            "|2010|Non Fiction|Unbroken: A World War II Story of Survival, Resilience, and Redemption   |Laura Hillenbrand|\n",
            "|2011|Fiction    |The Hunger Games Trilogy Boxed Set (1)                                   |Suzanne Collins  |\n",
            "|2011|Non Fiction|Jesus Calling: Enjoying Peace in His Presence (with Scripture References)|Sarah Young      |\n",
            "|2012|Fiction    |Oh, the Places You'll Go!                                                |Dr. Seuss        |\n",
            "|2012|Non Fiction|Jesus Calling: Enjoying Peace in His Presence (with Scripture References)|Sarah Young      |\n",
            "|2013|Fiction    |Oh, the Places You'll Go!                                                |Dr. Seuss        |\n",
            "|2013|Non Fiction|Jesus Calling: Enjoying Peace in His Presence (with Scripture References)|Sarah Young      |\n",
            "|2014|Fiction    |Oh, the Places You'll Go!                                                |Dr. Seuss        |\n",
            "|2014|Non Fiction|Jesus Calling: Enjoying Peace in His Presence (with Scripture References)|Sarah Young      |\n",
            "|2015|Fiction    |Oh, the Places You'll Go!                                                |Dr. Seuss        |\n",
            "|2015|Non Fiction|Jesus Calling: Enjoying Peace in His Presence (with Scripture References)|Sarah Young      |\n",
            "|2016|Fiction    |Oh, the Places You'll Go!                                                |Dr. Seuss        |\n",
            "|2016|Non Fiction|Jesus Calling: Enjoying Peace in His Presence (with Scripture References)|Sarah Young      |\n",
            "|2017|Fiction    |Oh, the Places You'll Go!                                                |Dr. Seuss        |\n",
            "|2017|Non Fiction|Obama: An Intimate Portrait                                              |Pete Souza       |\n",
            "|2018|Fiction    |Oh, the Places You'll Go!                                                |Dr. Seuss        |\n",
            "|2018|Non Fiction|Becoming                                                                 |Michelle Obama   |\n",
            "|2019|Fiction    |Oh, the Places You'll Go!                                                |Dr. Seuss        |\n",
            "|2019|Non Fiction|Unfreedom of the Press                                                   |Mark R. Levin    |\n",
            "|2020|Fiction    |Dog Man: Grime and Punishment                                            |Dav Pilkey       |\n",
            "|2020|Non Fiction|A Promised Land                                                          |Barack Obama     |\n",
            "+----+-----------+-------------------------------------------------------------------------+-----------------+\n",
            "\n"
          ]
        }
      ]
    },
    {
      "cell_type": "code",
      "source": [
        "### Group the data by author, and show their highest rated book, the number\n",
        "### of times they appear in the dataset, and the number of distinct books\n",
        "# .sort, .groupBy, .agg, .first, .count, .count_distinct\n",
        "# Optional: .col, .desc\n",
        "\n",
        "# Create columns and give them names\n",
        "authors = F.ltrim('Author').alias('Author')\n",
        "pop_book = F.first('Name').alias('Highest Rated Book')\n",
        "n_books = F.count('Name').alias('Number of Entries')\n",
        "n_unique_books = F.count_distinct('Name').alias('Number of Unique Books')\n",
        "\n",
        "# Sort by popularity, group by author, feed in aggregate columns\n",
        "BooksDF.sort(F.col('User Rating').desc(),\n",
        "             F.col('Reviews').desc())\\\n",
        "       .groupBy(authors)\\\n",
        "       .agg(pop_book,\n",
        "            n_books,\n",
        "            n_unique_books)\\\n",
        "       .show(truncate=False)"
      ],
      "metadata": {
        "colab": {
          "base_uri": "https://localhost:8080/"
        },
        "id": "yTzIoH8C3Ukf",
        "outputId": "9d89b532-7ee3-44ee-f088-a80b1fd1bca9"
      },
      "execution_count": null,
      "outputs": [
        {
          "output_type": "stream",
          "name": "stdout",
          "text": [
            "+----------------------------------+-----------------------------------------------------------------------------------------------------------------+-----------------+----------------------+\n",
            "|Author                            |Highest Rated Book                                                                                               |Number of Entries|Number of Unique Books|\n",
            "+----------------------------------+-----------------------------------------------------------------------------------------------------------------+-----------------+----------------------+\n",
            "|Abraham Verghese                  |Cutting for Stone                                                                                                |2                |1                     |\n",
            "|Adam Gasiewski                    |Milk and Vine: Inspirational Quotes From Classic Vines                                                           |1                |1                     |\n",
            "|Adam Mansbach                     |Go the F**k to Sleep                                                                                             |1                |1                     |\n",
            "|Adam Wallace                      |How to Catch a Mermaid                                                                                           |2                |2                     |\n",
            "|Adir Levy                         |What Should Danny Do?                                                                                            |2                |2                     |\n",
            "|Admiral William H. McRaven        |Make Your Bed: Little Things That Can Change Your Life...And Maybe the World                                     |1                |1                     |\n",
            "|Adult Coloring Book Designs       |Adult Coloring Book Designs: Stress Relief Coloring Book: Garden Designs, Mandalas, Animals, and Paisley Patterns|1                |1                     |\n",
            "|Alan Moore                        |Watchmen                                                                                                         |1                |1                     |\n",
            "|Alex Michaelides                  |The Silent Patient                                                                                               |2                |2                     |\n",
            "|Alice Schertle                    |Little Blue Truck                                                                                                |1                |1                     |\n",
            "|Allie Brosh                       |Hyperbole and a Half: Unfortunate Situations, Flawed Coping Mechanisms, Mayhem, and Other Things That Happened   |1                |1                     |\n",
            "|Amelia Hepworth                   |I Love You to the Moon and Back                                                                                  |1                |1                     |\n",
            "|American Psychiatric Association  |Diagnostic and Statistical Manual of Mental Disorders, 5th Edition: DSM-5                                        |2                |1                     |\n",
            "|American Psychological Association|Publication Manual of the American Psychological Association, 6th Edition                                        |10               |1                     |\n",
            "|Amor Towles                       |A Gentleman in Moscow: A Novel                                                                                   |1                |1                     |\n",
            "|Amy Ramos                         |The Complete Ketogenic Diet for Beginners: Your Essential Guide to Living the Keto Lifestyle                     |2                |1                     |\n",
            "|Amy Shields                       |National Geographic Little Kids First Big Book of Why (National Geographic Little Kids First Big Books)          |1                |1                     |\n",
            "|Andy Weir                         |The Martian                                                                                                      |1                |1                     |\n",
            "|Angie Grace                       |Balance (Angie's Extreme Stress Menders)                                                                         |1                |1                     |\n",
            "|Angie Thomas                      |The Hate U Give                                                                                                  |1                |1                     |\n",
            "+----------------------------------+-----------------------------------------------------------------------------------------------------------------+-----------------+----------------------+\n",
            "only showing top 20 rows\n",
            "\n"
          ]
        }
      ]
    }
  ],
  "metadata": {
    "colab": {
      "provenance": []
    },
    "kernelspec": {
      "display_name": "Python 3",
      "name": "python3"
    },
    "language_info": {
      "name": "python"
    }
  },
  "nbformat": 4,
  "nbformat_minor": 0
}