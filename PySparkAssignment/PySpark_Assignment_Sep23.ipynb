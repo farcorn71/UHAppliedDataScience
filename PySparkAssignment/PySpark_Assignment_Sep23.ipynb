{
  "cells": [
    {
      "cell_type": "markdown",
      "metadata": {
        "id": "ViQdeQ5m1E2Z"
      },
      "source": [
        "# ADS2 - Assignment 1 - Data Handling and Processing with PySpark\n",
        "\n",
        "**STUDENT NAME -** **CORNELIUS OLUWAGBENGA AKINLOYE**\n",
        "\n",
        "**STUDENT ID -** **20063102**\n",
        "\n",
        "In this assignment, you will be analysing the popularity of films and TV shows on the streaming platform, Netflix. Using your knowledge of PySpark DataFrames and Spark SQL, you will produce a number of \"downstream\" data products to analyse trends in global streaming habits.\n",
        "\n",
        "Download the dataset from this [Kaggle](https://www.kaggle.com/dhruvildave/netflix-top-10-tv-shows-and-films) page. A copy of the `all_weeks_countries.csv` file is also available on the canvas page for this assignment.\n",
        "\n",
        "Your task is to load in the data and produce a number of \"downstream\" data products and plots as described below.\n",
        "\n",
        "The PySpark installation and setup is provided below for conveinience.\n",
        "\n",
        "IMPORTANT: DO NOT EDIT OR REMOVE THE COMMENT TAGS IN THE CODE CELLS"
      ]
    },
    {
      "cell_type": "code",
      "execution_count": 4,
      "metadata": {
        "id": "5lb-Z7ZM8O3s"
      },
      "outputs": [],
      "source": [
        "# CodeGrade Tag Init1\n",
        "\n",
        "# Apache Spark uses Java, so first we must install that\n",
        "!apt-get install openjdk-8-jdk-headless -qq > /dev/null"
      ]
    },
    {
      "cell_type": "code",
      "execution_count": 5,
      "metadata": {
        "id": "ixa72o938SKP",
        "colab": {
          "base_uri": "https://localhost:8080/"
        },
        "outputId": "f572eec3-f80e-4d81-bfc4-f6eea21d96b0"
      },
      "outputs": [
        {
          "output_type": "stream",
          "name": "stdout",
          "text": [
            "Mounted at /content/drive\n"
          ]
        }
      ],
      "source": [
        "# CodeGrade Tag Init2\n",
        "# Mount Google Drive and unpack Spark\n",
        "from google.colab import drive\n",
        "drive.mount('/content/drive')\n",
        "!wget -q https://dlcdn.apache.org/spark/spark-3.5.0/spark-3.5.0-bin-hadoop3.tgz\n",
        "!tar xzf spark-3.5.0-bin-hadoop3.tgz"
      ]
    },
    {
      "cell_type": "code",
      "execution_count": 7,
      "metadata": {
        "id": "yWT7_XiQ8V6u"
      },
      "outputs": [],
      "source": [
        "# CodeGrade Tag Init3\n",
        "# Set up environment variables\n",
        "import os\n",
        "os.environ[\"JAVA_HOME\"] = \"/usr/lib/jvm/java-8-openjdk-amd64\"\n",
        "os.environ[\"SPARK_HOME\"] = \"spark-3.5.0-bin-hadoop3\""
      ]
    },
    {
      "cell_type": "code",
      "execution_count": 8,
      "metadata": {
        "id": "UPSvq-aj8Z_k"
      },
      "outputs": [],
      "source": [
        "# CodeGrade Tag Init4\n",
        "# Install findspark, which helps python locate the pyspark module files\n",
        "!pip install -q findspark\n",
        "import findspark\n",
        "findspark.init()"
      ]
    },
    {
      "cell_type": "code",
      "execution_count": 9,
      "metadata": {
        "id": "kXT8Q_IO8cVe"
      },
      "outputs": [],
      "source": [
        "# Finally, we initialse a \"SparkSession\", which handles the computations\n",
        "from pyspark.sql import SparkSession\n",
        "spark = SparkSession.builder\\\n",
        "        .master(\"local\")\\\n",
        "        .appName(\"Colab\")\\\n",
        "        .config('spark.ui.port', '4050')\\\n",
        "        .getOrCreate()"
      ]
    },
    {
      "cell_type": "code",
      "execution_count": 10,
      "metadata": {
        "id": "nY0UxWbdDcag"
      },
      "outputs": [],
      "source": [
        "# Load the all_weeks_countries.csv into your Colab Notebook as a DataFrame.\n",
        "netflixcsvpath = '/content/drive/My Drive/allweekscountries.csv'\n",
        "\n",
        "# Data is loaded with header: True and an inferred schema\n",
        "netflixDF = (spark\n",
        "           .read\n",
        "           .option('header', 'True')\n",
        "           .option('inferSchema', 'True')\n",
        "           .csv(netflixcsvpath)\n",
        "          )"
      ]
    },
    {
      "cell_type": "code",
      "execution_count": 11,
      "metadata": {
        "id": "adZdlbyGL7Mj"
      },
      "outputs": [],
      "source": [
        "# pyspark.sql.functions countains all the transformations and actions you will\n",
        "# need\n",
        "from pyspark.sql import functions as F"
      ]
    },
    {
      "cell_type": "markdown",
      "metadata": {
        "id": "yfW6RnY_GZpE"
      },
      "source": [
        "# Exercise 1 - Data Preparation\n",
        "\n",
        "\n",
        "1.   Create two separate DataFrames for Films and TV.\n",
        "2.   For the Films data, drop the column containing the season names.\n",
        "3.   For the TV data, replace any null values in the season name column with the show name."
      ]
    },
    {
      "cell_type": "code",
      "source": [
        "# Show the first 5 rows of data and print the schema\n",
        "netflixDF.show(5)\n"
      ],
      "metadata": {
        "colab": {
          "base_uri": "https://localhost:8080/"
        },
        "id": "vW8zpp4liEmX",
        "outputId": "48ab6ac4-aa3f-4ba8-b040-b59d0b112f80"
      },
      "execution_count": 12,
      "outputs": [
        {
          "output_type": "stream",
          "name": "stdout",
          "text": [
            "+------------+------------+----------+--------+-----------+--------------------+------------+--------------------------+\n",
            "|country_name|country_iso2|      week|category|weekly_rank|          show_title|season_title|cumulative_weeks_in_top_10|\n",
            "+------------+------------+----------+--------+-----------+--------------------+------------+--------------------------+\n",
            "|   Argentina|          AR|2022-08-21|   Films|          1|      Look Both Ways|        NULL|                         1|\n",
            "|   Argentina|          AR|2022-08-21|   Films|          2|           Day Shift|        NULL|                         2|\n",
            "|   Argentina|          AR|2022-08-21|   Films|          3|Bank Robbers: The...|        NULL|                         2|\n",
            "|   Argentina|          AR|2022-08-21|   Films|          4|   The Next 365 Days|        NULL|                         1|\n",
            "|   Argentina|          AR|2022-08-21|   Films|          5|The Angry Birds M...|        NULL|                         1|\n",
            "+------------+------------+----------+--------+-----------+--------------------+------------+--------------------------+\n",
            "only showing top 5 rows\n",
            "\n"
          ]
        }
      ]
    },
    {
      "cell_type": "code",
      "execution_count": 13,
      "metadata": {
        "id": "I7PS8iZgqwjt",
        "colab": {
          "base_uri": "https://localhost:8080/"
        },
        "outputId": "d9e19aa4-0db9-4e4a-aa0f-6a333fb8cfd9"
      },
      "outputs": [
        {
          "output_type": "stream",
          "name": "stdout",
          "text": [
            "root\n",
            " |-- country_name: string (nullable = true)\n",
            " |-- country_iso2: string (nullable = true)\n",
            " |-- week: date (nullable = true)\n",
            " |-- category: string (nullable = true)\n",
            " |-- weekly_rank: integer (nullable = true)\n",
            " |-- show_title: string (nullable = true)\n",
            " |-- season_title: string (nullable = true)\n",
            " |-- cumulative_weeks_in_top_10: integer (nullable = true)\n",
            "\n"
          ]
        }
      ],
      "source": [
        "# CodeGrade Tag Ex1a\n",
        "\n",
        "### Display the table and its schema\n",
        "netflixDF.printSchema()\n",
        "\n"
      ]
    },
    {
      "cell_type": "code",
      "execution_count": 14,
      "metadata": {
        "id": "qfke8sGRN5ns",
        "colab": {
          "base_uri": "https://localhost:8080/"
        },
        "outputId": "58707ba2-226b-42bd-b2e5-dbbd6106e472"
      },
      "outputs": [
        {
          "output_type": "stream",
          "name": "stdout",
          "text": [
            "+------------+------------+----------+--------+-----------+--------------------+------------+--------------------------+\n",
            "|country_name|country_iso2|      week|category|weekly_rank|          show_title|season_title|cumulative_weeks_in_top_10|\n",
            "+------------+------------+----------+--------+-----------+--------------------+------------+--------------------------+\n",
            "|   Argentina|          AR|2022-08-21|   Films|          1|      Look Both Ways|        NULL|                         1|\n",
            "|   Argentina|          AR|2022-08-21|   Films|          2|           Day Shift|        NULL|                         2|\n",
            "|   Argentina|          AR|2022-08-21|   Films|          3|Bank Robbers: The...|        NULL|                         2|\n",
            "|   Argentina|          AR|2022-08-21|   Films|          4|   The Next 365 Days|        NULL|                         1|\n",
            "|   Argentina|          AR|2022-08-21|   Films|          5|The Angry Birds M...|        NULL|                         1|\n",
            "+------------+------------+----------+--------+-----------+--------------------+------------+--------------------------+\n",
            "only showing top 5 rows\n",
            "\n",
            "+------------+------------+----------+--------+-----------+-------------------+--------------------+--------------------------+\n",
            "|country_name|country_iso2|      week|category|weekly_rank|         show_title|        season_title|cumulative_weeks_in_top_10|\n",
            "+------------+------------+----------+--------+-----------+-------------------+--------------------+--------------------------+\n",
            "|   Argentina|          AR|2022-08-21|      TV|          1|Pasión de Gavilanes|Pasión de Gavilan...|                         5|\n",
            "|   Argentina|          AR|2022-08-21|      TV|          2|       Another Self|Another Self: Sea...|                         4|\n",
            "|   Argentina|          AR|2022-08-21|      TV|          3|Pasión de Gavilanes|Pasión de Gavilan...|                        58|\n",
            "|   Argentina|          AR|2022-08-21|      TV|          4|           Manifest|  Manifest: Season 1|                         6|\n",
            "|   Argentina|          AR|2022-08-21|      TV|          5|        The Sandman|The Sandman: Seas...|                         3|\n",
            "+------------+------------+----------+--------+-----------+-------------------+--------------------+--------------------------+\n",
            "only showing top 5 rows\n",
            "\n"
          ]
        }
      ],
      "source": [
        "# CodeGrade Tag Ex1b\n",
        "\n",
        "### Seperate the data into two DataFrames for Films and TV\n",
        "### Call the dataframes tvDF and filmsDF\n",
        "filmsDF = netflixDF.where(\"category == 'Films'\")\n",
        "\n",
        "tvDF = netflixDF.where(\"category == 'TV'\")\n",
        "\n",
        "\n",
        "filmsDF.show(5)\n",
        "tvDF.show(5)\n"
      ]
    },
    {
      "cell_type": "code",
      "execution_count": 15,
      "metadata": {
        "id": "X7JsDYkQN7Zw",
        "colab": {
          "base_uri": "https://localhost:8080/"
        },
        "outputId": "e61b15ee-032e-4116-c9b9-c4aee732b8e8"
      },
      "outputs": [
        {
          "output_type": "stream",
          "name": "stdout",
          "text": [
            "+------------+------------+----------+--------+-----------+--------------------+--------------------------+\n",
            "|country_name|country_iso2|      week|category|weekly_rank|          show_title|cumulative_weeks_in_top_10|\n",
            "+------------+------------+----------+--------+-----------+--------------------+--------------------------+\n",
            "|   Argentina|          AR|2022-08-21|   Films|          1|      Look Both Ways|                         1|\n",
            "|   Argentina|          AR|2022-08-21|   Films|          2|           Day Shift|                         2|\n",
            "|   Argentina|          AR|2022-08-21|   Films|          3|Bank Robbers: The...|                         2|\n",
            "|   Argentina|          AR|2022-08-21|   Films|          4|   The Next 365 Days|                         1|\n",
            "|   Argentina|          AR|2022-08-21|   Films|          5|The Angry Birds M...|                         1|\n",
            "+------------+------------+----------+--------+-----------+--------------------+--------------------------+\n",
            "only showing top 5 rows\n",
            "\n"
          ]
        }
      ],
      "source": [
        "# CodeGrade Tag Ex1c\n",
        "from pyspark.sql.functions import col, coalesce\n",
        "### Drop the 'season_title' column from the Films DataFrame, display the table\n",
        "Season_Title_Dropped_filmsDF = filmsDF.drop(col('season_title'))\n",
        "\n",
        "Season_Title_Dropped_filmsDF.show(5)\n"
      ]
    },
    {
      "cell_type": "code",
      "execution_count": 16,
      "metadata": {
        "id": "4M83pWB5N9Ar",
        "colab": {
          "base_uri": "https://localhost:8080/"
        },
        "outputId": "9814938c-8b24-4bec-c04a-1ae0e879c417"
      },
      "outputs": [
        {
          "output_type": "stream",
          "name": "stdout",
          "text": [
            "+------------+------------+----------+--------+-----------+--------------------+--------------------+--------------------------+-------------------+\n",
            "|country_name|country_iso2|      week|category|weekly_rank|          show_title|        season_title|cumulative_weeks_in_top_10|IsNull_season_title|\n",
            "+------------+------------+----------+--------+-----------+--------------------+--------------------+--------------------------+-------------------+\n",
            "|   Argentina|          AR|2022-08-21|      TV|          1| Pasión de Gavilanes|Pasión de Gavilan...|                         5|              false|\n",
            "|   Argentina|          AR|2022-08-21|      TV|          2|        Another Self|Another Self: Sea...|                         4|              false|\n",
            "|   Argentina|          AR|2022-08-21|      TV|          3| Pasión de Gavilanes|Pasión de Gavilan...|                        58|              false|\n",
            "|   Argentina|          AR|2022-08-21|      TV|          4|            Manifest|  Manifest: Season 1|                         6|              false|\n",
            "|   Argentina|          AR|2022-08-21|      TV|          5|         The Sandman|The Sandman: Seas...|                         3|              false|\n",
            "|   Argentina|          AR|2022-08-21|      TV|          6|Extraordinary Att...|Extraordinary Att...|                         2|              false|\n",
            "|   Argentina|          AR|2022-08-21|      TV|          7|           High Heat| High Heat: Season 1|                         1|              false|\n",
            "|   Argentina|          AR|2022-08-21|      TV|          8|            Manifest|  Manifest: Season 2|                         5|              false|\n",
            "|   Argentina|          AR|2022-08-21|      TV|          9|            Manifest|  Manifest: Season 3|                         4|              false|\n",
            "|   Argentina|          AR|2022-08-21|      TV|         10|   Never Have I Ever|Never Have I Ever...|                         2|              false|\n",
            "|   Argentina|          AR|2022-08-14|      TV|          1| Pasión de Gavilanes|Pasión de Gavilan...|                         4|              false|\n",
            "|   Argentina|          AR|2022-08-14|      TV|          2|        Another Self|Another Self: Sea...|                         3|              false|\n",
            "|   Argentina|          AR|2022-08-14|      TV|          3|         The Sandman|The Sandman: Seas...|                         2|              false|\n",
            "|   Argentina|          AR|2022-08-14|      TV|          4| Pasión de Gavilanes|Pasión de Gavilan...|                        57|              false|\n",
            "|   Argentina|          AR|2022-08-14|      TV|          5|            Manifest|  Manifest: Season 1|                         5|              false|\n",
            "|   Argentina|          AR|2022-08-14|      TV|          6|Extraordinary Att...|Extraordinary Att...|                         1|              false|\n",
            "|   Argentina|          AR|2022-08-14|      TV|          7|                Alba|      Alba: Season 1|                         5|              false|\n",
            "|   Argentina|          AR|2022-08-14|      TV|          8|            Manifest|  Manifest: Season 2|                         4|              false|\n",
            "|   Argentina|          AR|2022-08-14|      TV|          9|            Manifest|  Manifest: Season 3|                         3|              false|\n",
            "|   Argentina|          AR|2022-08-14|      TV|         10|   Never Have I Ever|Never Have I Ever...|                         1|              false|\n",
            "+------------+------------+----------+--------+-----------+--------------------+--------------------+--------------------------+-------------------+\n",
            "only showing top 20 rows\n",
            "\n",
            "+------------+------------+----------+--------+-----------+--------------------+--------------------+--------------------------+\n",
            "|country_name|country_iso2|      week|category|weekly_rank|          show_title|        season_title|cumulative_weeks_in_top_10|\n",
            "+------------+------------+----------+--------+-----------+--------------------+--------------------+--------------------------+\n",
            "|   Argentina|          AR|2022-08-21|      TV|          1| Pasión de Gavilanes|Pasión de Gavilan...|                         5|\n",
            "|   Argentina|          AR|2022-08-21|      TV|          2|        Another Self|Another Self: Sea...|                         4|\n",
            "|   Argentina|          AR|2022-08-21|      TV|          3| Pasión de Gavilanes|Pasión de Gavilan...|                        58|\n",
            "|   Argentina|          AR|2022-08-21|      TV|          4|            Manifest|  Manifest: Season 1|                         6|\n",
            "|   Argentina|          AR|2022-08-21|      TV|          5|         The Sandman|The Sandman: Seas...|                         3|\n",
            "|   Argentina|          AR|2022-08-21|      TV|          6|Extraordinary Att...|Extraordinary Att...|                         2|\n",
            "|   Argentina|          AR|2022-08-21|      TV|          7|           High Heat| High Heat: Season 1|                         1|\n",
            "|   Argentina|          AR|2022-08-21|      TV|          8|            Manifest|  Manifest: Season 2|                         5|\n",
            "|   Argentina|          AR|2022-08-21|      TV|          9|            Manifest|  Manifest: Season 3|                         4|\n",
            "|   Argentina|          AR|2022-08-21|      TV|         10|   Never Have I Ever|Never Have I Ever...|                         2|\n",
            "|   Argentina|          AR|2022-08-14|      TV|          1| Pasión de Gavilanes|Pasión de Gavilan...|                         4|\n",
            "|   Argentina|          AR|2022-08-14|      TV|          2|        Another Self|Another Self: Sea...|                         3|\n",
            "|   Argentina|          AR|2022-08-14|      TV|          3|         The Sandman|The Sandman: Seas...|                         2|\n",
            "|   Argentina|          AR|2022-08-14|      TV|          4| Pasión de Gavilanes|Pasión de Gavilan...|                        57|\n",
            "|   Argentina|          AR|2022-08-14|      TV|          5|            Manifest|  Manifest: Season 1|                         5|\n",
            "|   Argentina|          AR|2022-08-14|      TV|          6|Extraordinary Att...|Extraordinary Att...|                         1|\n",
            "|   Argentina|          AR|2022-08-14|      TV|          7|                Alba|      Alba: Season 1|                         5|\n",
            "|   Argentina|          AR|2022-08-14|      TV|          8|            Manifest|  Manifest: Season 2|                         4|\n",
            "|   Argentina|          AR|2022-08-14|      TV|          9|            Manifest|  Manifest: Season 3|                         3|\n",
            "|   Argentina|          AR|2022-08-14|      TV|         10|   Never Have I Ever|Never Have I Ever...|                         1|\n",
            "+------------+------------+----------+--------+-----------+--------------------+--------------------+--------------------------+\n",
            "only showing top 20 rows\n",
            "\n"
          ]
        }
      ],
      "source": [
        "# CodeGrade Tag Ex1d\n",
        "\n",
        "### Use the F.isnull function to create a column showing where there are null\n",
        "### values in the 'season_title' column. Replace the null values with the\n",
        "### corresponding value from the 'show_title' column, then replace the\n",
        "### 'season_title' column in the tvDF DataFrame.\n",
        "FnullDF = tvDF.withColumn(\"IsNull_season_title\", col(\"season_title\").isNull())\n",
        "FnullDF.show()\n",
        "# Replace null values in 'Column2' with values from 'Column1'\n",
        "tvDF = tvDF.withColumn(\"season_title\", coalesce(col(\"season_title\"), col(\"show_title\")))\n",
        "\n",
        "tvDF = tvDF.withColumn(\"show_title\", coalesce(col(\"show_title\"), col(\"season_title\")))\n",
        "\n",
        "tvDF.show()"
      ]
    },
    {
      "cell_type": "markdown",
      "metadata": {
        "id": "rAHZm5_9IzTn"
      },
      "source": [
        "# Exercise 2\n",
        "\n",
        "Making use of the \"groupBy\" and \"where\" methods, find the number of weeks the show \"Stranger Things\" was in the Top 10 for the United Kingdom across all seasons. Store your result in a variable named \"STWeeks\"\n"
      ]
    },
    {
      "cell_type": "code",
      "execution_count": 17,
      "metadata": {
        "id": "68QRfnJsvIdt",
        "colab": {
          "base_uri": "https://localhost:8080/"
        },
        "outputId": "442849e0-3efa-4519-bf84-79bb927d5282"
      },
      "outputs": [
        {
          "output_type": "stream",
          "name": "stdout",
          "text": [
            "46\n",
            "+--------------+------------+----------+--------+-----------+---------------+-----------------+--------------------------+\n",
            "|  country_name|country_iso2|      week|category|weekly_rank|     show_title|     season_title|cumulative_weeks_in_top_10|\n",
            "+--------------+------------+----------+--------+-----------+---------------+-----------------+--------------------------+\n",
            "|United Kingdom|          GB|2022-08-21|      TV|          3|Stranger Things|Stranger Things 4|                        13|\n",
            "|United Kingdom|          GB|2022-08-14|      TV|          3|Stranger Things|Stranger Things 4|                        12|\n",
            "|United Kingdom|          GB|2022-08-14|      TV|         10|Stranger Things|Stranger Things 3|                        12|\n",
            "|United Kingdom|          GB|2022-08-07|      TV|          2|Stranger Things|Stranger Things 4|                        11|\n",
            "|United Kingdom|          GB|2022-08-07|      TV|          9|Stranger Things|Stranger Things 3|                        11|\n",
            "|United Kingdom|          GB|2022-08-07|      TV|         10|Stranger Things|Stranger Things 2|                        11|\n",
            "|United Kingdom|          GB|2022-07-31|      TV|          2|Stranger Things|Stranger Things 4|                        10|\n",
            "|United Kingdom|          GB|2022-07-31|      TV|          5|Stranger Things|Stranger Things 3|                        10|\n",
            "|United Kingdom|          GB|2022-07-31|      TV|          6|Stranger Things|Stranger Things 2|                        10|\n",
            "|United Kingdom|          GB|2022-07-31|      TV|          8|Stranger Things|             NULL|                        10|\n",
            "|United Kingdom|          GB|2022-07-24|      TV|          2|Stranger Things|Stranger Things 4|                         9|\n",
            "|United Kingdom|          GB|2022-07-24|      TV|          5|Stranger Things|Stranger Things 3|                         9|\n",
            "|United Kingdom|          GB|2022-07-24|      TV|          6|Stranger Things|Stranger Things 2|                         9|\n",
            "|United Kingdom|          GB|2022-07-24|      TV|          7|Stranger Things|             NULL|                         9|\n",
            "|United Kingdom|          GB|2022-07-17|      TV|          1|Stranger Things|Stranger Things 4|                         8|\n",
            "|United Kingdom|          GB|2022-07-17|      TV|          3|Stranger Things|Stranger Things 2|                         8|\n",
            "|United Kingdom|          GB|2022-07-17|      TV|          4|Stranger Things|Stranger Things 3|                         8|\n",
            "|United Kingdom|          GB|2022-07-17|      TV|          5|Stranger Things|             NULL|                         8|\n",
            "|United Kingdom|          GB|2022-07-10|      TV|          1|Stranger Things|Stranger Things 4|                         7|\n",
            "|United Kingdom|          GB|2022-07-10|      TV|          2|Stranger Things|             NULL|                         7|\n",
            "+--------------+------------+----------+--------+-----------+---------------+-----------------+--------------------------+\n",
            "only showing top 20 rows\n",
            "\n",
            "+-----------------+-----------------+\n",
            "|     season_title|TotalWeeksInTop10|\n",
            "+-----------------+-----------------+\n",
            "|             NULL|               10|\n",
            "|Stranger Things 4|               13|\n",
            "|Stranger Things 3|               12|\n",
            "|Stranger Things 2|               11|\n",
            "+-----------------+-----------------+\n",
            "\n"
          ]
        }
      ],
      "source": [
        "# CodeGrade Tag Ex2\n",
        "### Use the \"where\" method to create a new dataframe containing the data for\n",
        "### the show Stranger Things in the Uniter Kingdom. Call this dataframe STDF.\n",
        "STDF = netflixDF.where(\"show_title == 'Stranger Things' AND country_name == 'United Kingdom'\")\n",
        "print(STDF.count())\n",
        "STDF.show()\n",
        "### Using \"groupBy\" method and \"F.count_distinct\" function, find the total number of weeks\n",
        "### Stranger Things spent in the top 10 of the UK, across all seasons. Show the\n",
        "### result.\n",
        "result = STDF.groupBy(\"season_title\").agg(F.countDistinct(\"cumulative_weeks_in_top_10\").alias(\"TotalWeeksInTop10\"))\n",
        "result.show()\n"
      ]
    },
    {
      "cell_type": "markdown",
      "metadata": {
        "id": "o1i0AYsUzfOl"
      },
      "source": [
        "# Exercise 3\n",
        "\n",
        "Produce a dataframe containing only the Top 25 TV seasons in the UK, based on the number of weeks they spent in the Top 10."
      ]
    },
    {
      "cell_type": "code",
      "execution_count": 18,
      "metadata": {
        "id": "JvD5HHZpSOLM",
        "colab": {
          "base_uri": "https://localhost:8080/"
        },
        "outputId": "dd174664-5ae9-42ef-d866-6801f217903b"
      },
      "outputs": [
        {
          "output_type": "stream",
          "name": "stdout",
          "text": [
            "+--------------+------------+----------+--------+-----------+----------------+--------------------+--------------------------+\n",
            "|  country_name|country_iso2|      week|category|weekly_rank|      show_title|        season_title|cumulative_weeks_in_top_10|\n",
            "+--------------+------------+----------+--------+-----------+----------------+--------------------+--------------------------+\n",
            "|United Kingdom|          GB|2022-08-21|      TV|          3| Stranger Things|   Stranger Things 4|                        13|\n",
            "|United Kingdom|          GB|2022-08-14|      TV|          3| Stranger Things|   Stranger Things 4|                        12|\n",
            "|United Kingdom|          GB|2022-08-14|      TV|         10| Stranger Things|   Stranger Things 3|                        12|\n",
            "|United Kingdom|          GB|2022-06-05|      TV|          7|           Ozark|     Ozark: Season 4|                        12|\n",
            "|United Kingdom|          GB|2022-08-07|      TV|          2| Stranger Things|   Stranger Things 4|                        11|\n",
            "|United Kingdom|          GB|2022-08-07|      TV|          9| Stranger Things|   Stranger Things 3|                        11|\n",
            "|United Kingdom|          GB|2022-08-07|      TV|         10| Stranger Things|   Stranger Things 2|                        11|\n",
            "|United Kingdom|          GB|2022-05-29|      TV|          5|           Ozark|     Ozark: Season 4|                        11|\n",
            "|United Kingdom|          GB|2022-07-31|      TV|          8| Stranger Things|                NULL|                        10|\n",
            "|United Kingdom|          GB|2022-08-21|      TV|          4|Better Call Saul|Better Call Saul:...|                        10|\n",
            "|United Kingdom|          GB|2022-07-31|      TV|          5| Stranger Things|   Stranger Things 3|                        10|\n",
            "|United Kingdom|          GB|2022-07-31|      TV|          6| Stranger Things|   Stranger Things 2|                        10|\n",
            "|United Kingdom|          GB|2022-07-31|      TV|          2| Stranger Things|   Stranger Things 4|                        10|\n",
            "|United Kingdom|          GB|2022-05-22|      TV|          3|           Ozark|     Ozark: Season 4|                        10|\n",
            "|United Kingdom|          GB|2021-11-21|      TV|          7|      Squid Game|Squid Game: Season 1|                        10|\n",
            "|United Kingdom|          GB|2022-07-24|      TV|          6| Stranger Things|   Stranger Things 2|                         9|\n",
            "|United Kingdom|          GB|2022-07-24|      TV|          2| Stranger Things|   Stranger Things 4|                         9|\n",
            "|United Kingdom|          GB|2022-07-24|      TV|          5| Stranger Things|   Stranger Things 3|                         9|\n",
            "|United Kingdom|          GB|2022-07-24|      TV|          7| Stranger Things|                NULL|                         9|\n",
            "|United Kingdom|          GB|2021-11-28|      TV|          9|            Maid|Maid: Limited Series|                         9|\n",
            "|United Kingdom|          GB|2022-08-14|      TV|          8|Better Call Saul|Better Call Saul:...|                         9|\n",
            "|United Kingdom|          GB|2022-05-22|      TV|         10|      Bridgerton|Bridgerton: Season 2|                         9|\n",
            "|United Kingdom|          GB|2022-05-15|      TV|          1|           Ozark|     Ozark: Season 4|                         9|\n",
            "|United Kingdom|          GB|2022-02-27|      TV|          8|      PAW Patrol|PAW Patrol: Season 6|                         9|\n",
            "|United Kingdom|          GB|2021-11-14|      TV|          7|      Squid Game|Squid Game: Season 1|                         9|\n",
            "+--------------+------------+----------+--------+-----------+----------------+--------------------+--------------------------+\n",
            "\n"
          ]
        }
      ],
      "source": [
        "# CodeGrade Tag Ex3\n",
        "### Produce a dataframe containing the top 25 seasons by number of weeks in the\n",
        "### top 10 of the United Kingdom, sorted by number of weeks. Store the dataframe\n",
        "### in a variable called Top25\n",
        "Top25 = netflixDF.where(\"country_name == 'United Kingdom'\").orderBy('cumulative_weeks_in_top_10', ascending=False).limit(25)\n",
        "Top25.show(30);"
      ]
    },
    {
      "cell_type": "markdown",
      "metadata": {
        "id": "QSLCobP5Tpmp"
      },
      "source": [
        "# Exercise 4\n",
        "\n",
        "For the show \"Young Sheldon\", find the country where each season spent the most time in the Top 10."
      ]
    },
    {
      "cell_type": "code",
      "execution_count": 19,
      "metadata": {
        "id": "ocBh6iMbkQ0t",
        "colab": {
          "base_uri": "https://localhost:8080/"
        },
        "outputId": "916ef140-410d-496e-853e-5dec185f819e"
      },
      "outputs": [
        {
          "output_type": "stream",
          "name": "stdout",
          "text": [
            "+--------------+--------------+\n",
            "|  country_name|MaxAppearances|\n",
            "+--------------+--------------+\n",
            "|         Italy|             3|\n",
            "|       Ireland|             6|\n",
            "|        Canada|             6|\n",
            "|   New Zealand|             3|\n",
            "|     Australia|             4|\n",
            "|United Kingdom|             6|\n",
            "+--------------+--------------+\n",
            "\n"
          ]
        }
      ],
      "source": [
        "# CodeGrade Tag Ex4\n",
        "### For each season of the show \"Young Sheldon\" find the countries where it spent\n",
        "### the most time in the Top 10\n",
        "ysDF = netflixDF.where(\"show_title == 'Young Sheldon'\")\n",
        "result = ysDF.groupBy(\"country_name\", \"cumulative_weeks_in_top_10\").count()\n",
        "maximum_appearance = result.groupBy(\"country_name\").agg(F.max(\"cumulative_weeks_in_top_10\").alias(\"MaxAppearances\"))\n",
        "maximum_appearance.show()\n"
      ]
    },
    {
      "cell_type": "markdown",
      "metadata": {
        "id": "aOi5jbLgTupk"
      },
      "source": [
        "# Exercise 5\n",
        "\n",
        "For each country, find the film that spent the most time in the Top 10."
      ]
    },
    {
      "cell_type": "code",
      "execution_count": 25,
      "metadata": {
        "id": "hYz243A8kkNG",
        "colab": {
          "base_uri": "https://localhost:8080/"
        },
        "outputId": "2fa40fd2-9f05-4b3c-efa8-553463568b38"
      },
      "outputs": [
        {
          "output_type": "stream",
          "name": "stdout",
          "text": [
            "+------------------+------------+----------+--------+-----------+--------------------+--------------------+--------------------------+\n",
            "|      country_name|country_iso2|      week|category|weekly_rank|          show_title|        season_title|cumulative_weeks_in_top_10|\n",
            "+------------------+------------+----------+--------+-----------+--------------------+--------------------+--------------------------+\n",
            "|         Argentina|          AR|2022-08-21|      TV|          3| Pasión de Gavilanes|Pasión de Gavilan...|                        58|\n",
            "|         Australia|          AU|2022-08-21|      TV|          7|     Stranger Things|   Stranger Things 4|                        13|\n",
            "|           Austria|          AT|2022-07-10|      TV|         10|     The Good Doctor|The Good Doctor: ...|                        14|\n",
            "|           Bahamas|          BS|2022-08-14|      TV|         10|SpongeBob SquareP...|SpongeBob SquareP...|                        33|\n",
            "|           Bahrain|          BH|2022-01-02|      TV|         10|          Squid Game|Squid Game: Season 1|                        16|\n",
            "|        Bangladesh|          BD|2022-03-06|      TV|          9|          Squid Game|Squid Game: Season 1|                        22|\n",
            "|           Belgium|          BE|2022-08-21|      TV|          4|     Stranger Things|   Stranger Things 4|                        13|\n",
            "|           Bolivia|          BO|2022-08-21|      TV|          6| Pasión de Gavilanes|Pasión de Gavilan...|                        57|\n",
            "|            Brazil|          BR|2022-08-21|      TV|          6|         Chiquititas|                NULL|                        51|\n",
            "|          Bulgaria|          BG|2022-01-02|      TV|          8|          Squid Game|Squid Game: Season 1|                        16|\n",
            "|            Canada|          CA|2022-06-12|      TV|         10|               Ozark|     Ozark: Season 4|                        14|\n",
            "|             Chile|          CL|2022-07-10|      TV|          2|Yo soy Betty, la fea|Yo soy Betty, la ...|                        54|\n",
            "|          Colombia|          CO|2022-08-21|      TV|          5|Pablo Escobar, el...|Pablo Escobar, el...|                        60|\n",
            "|        Costa Rica|          CR|2022-08-21|      TV|          5| Pasión de Gavilanes|Pasión de Gavilan...|                        60|\n",
            "|           Croatia|          HR|2021-12-26|      TV|         10|          Squid Game|Squid Game: Season 1|                        15|\n",
            "|            Cyprus|          CY|2021-11-21|      TV|          9|     The Good Doctor|The Good Doctor: ...|                        16|\n",
            "|    Czech Republic|          CZ|2022-03-06|      TV|         10|         Money Heist| Money Heist: Part 1|                        20|\n",
            "|           Denmark|          DK|2022-08-21|      TV|          5|     Stranger Things|   Stranger Things 4|                        13|\n",
            "|Dominican Republic|          DO|2022-08-21|      TV|          2| Pasión de Gavilanes|Pasión de Gavilan...|                        60|\n",
            "|           Ecuador|          EC|2022-08-21|      TV|          2| Pasión de Gavilanes|Pasión de Gavilan...|                        60|\n",
            "|             Egypt|          EG|2021-12-26|      TV|          8|     The Good Doctor|The Good Doctor: ...|                        21|\n",
            "|       El Salvador|          SV|2022-08-21|      TV|          7|Pablo Escobar, el...|Pablo Escobar, el...|                        60|\n",
            "|           Estonia|          EE|2022-08-07|   Films|          8|          Red Notice|                NULL|                        20|\n",
            "|           Finland|          FI|2021-12-19|      TV|         10|     The Good Doctor|The Good Doctor: ...|                        18|\n",
            "|            France|          FR|2022-08-21|      TV|          5|     Stranger Things|   Stranger Things 4|                        13|\n",
            "|           Germany|          DE|2022-07-10|      TV|         10|     The Good Doctor|The Good Doctor: ...|                        16|\n",
            "|            Greece|          GR|2021-12-19|      TV|          9|          Squid Game|Squid Game: Season 1|                        14|\n",
            "|        Guadeloupe|          GP|2022-01-23|      TV|          6|   The Queen of Flow|The Queen of Flow...|                        17|\n",
            "|         Guatemala|          GT|2022-08-21|      TV|          4| Pasión de Gavilanes|Pasión de Gavilan...|                        60|\n",
            "|         Guatemala|          GT|2022-08-21|      TV|          8|Pablo Escobar, el...|Pablo Escobar, el...|                        60|\n",
            "|          Honduras|          HN|2022-08-21|      TV|          3| Pasión de Gavilanes|Pasión de Gavilan...|                        60|\n",
            "|          Honduras|          HN|2022-08-21|      TV|          5|Pablo Escobar, el...|Pablo Escobar, el...|                        60|\n",
            "|         Hong Kong|          HK|2021-12-19|      TV|          8|Hometown Cha-Cha-Cha|Hometown Cha-Cha-...|                        16|\n",
            "|           Hungary|          HU|2022-04-10|      TV|          9|         Money Heist| Money Heist: Part 1|                        23|\n",
            "|           Iceland|          IS|2022-08-21|      TV|          5|     Stranger Things|   Stranger Things 4|                        13|\n",
            "|             India|          IN|2022-06-05|      TV|          9|         Money Heist| Money Heist: Part 1|                        39|\n",
            "|         Indonesia|          ID|2021-12-19|      TV|          8|            Vincenzo|  Vincenzo: Season 1|                        24|\n",
            "|           Ireland|          IE|2022-06-05|      TV|         10|          PAW Patrol|PAW Patrol: Season 6|                        20|\n",
            "|            Israel|          IL|2021-12-26|      TV|          9|     The Good Doctor|The Good Doctor: ...|                        22|\n",
            "|             Italy|          IT|2021-11-21|      TV|         10|     The Good Doctor|The Good Doctor: ...|                        16|\n",
            "|           Jamaica|          JM|2022-08-14|      TV|          8|SpongeBob SquareP...|SpongeBob SquareP...|                        25|\n",
            "|             Japan|          JP|2022-08-21|      TV|          8|Crash Landing on You|Crash Landing on ...|                        59|\n",
            "|            Jordan|          JO|2022-06-19|      TV|          9|             Friends|   Friends: Season 6|                        42|\n",
            "|             Kenya|          KE|2021-12-26|      TV|          8|          Squid Game|Squid Game: Season 1|                        13|\n",
            "|            Kuwait|          KW|2022-06-05|      TV|          9|SpongeBob SquareP...|SpongeBob SquareP...|                        23|\n",
            "|            Latvia|          LV|2022-08-07|   Films|          7|          Red Notice|                NULL|                        17|\n",
            "|           Lebanon|          LB|2022-01-23|      TV|         10|     The Good Doctor|The Good Doctor: ...|                        20|\n",
            "|         Lithuania|          LT|2022-04-10|      TV|         10|   The Office (U.S.)|The Office (U.S.)...|                        19|\n",
            "|        Luxembourg|          LU|2022-08-21|      TV|          9|     Stranger Things|   Stranger Things 4|                        13|\n",
            "|          Malaysia|          MY|2021-12-19|      TV|         10|            Vincenzo|  Vincenzo: Season 1|                        23|\n",
            "+------------------+------------+----------+--------+-----------+--------------------+--------------------+--------------------------+\n",
            "only showing top 50 rows\n",
            "\n"
          ]
        }
      ],
      "source": [
        "# CodeGrade Tag Ex5\n",
        "### For each country, find the film that spent the most time in the Top 10\n",
        "### Display the results in a Dataframe ordered by country name.\n",
        "from pyspark.sql.window import Window\n",
        "\n",
        "allCountriesDF = netflixDF.groupBy(\"country_name\")\n",
        "country_spec = Window.partitionBy(\"country_name\").orderBy(F.desc(\"cumulative_weeks_in_top_10\"))\n",
        "ranked_df = netflixDF.withColumn(\"rank\", F.rank().over(country_spec))\n",
        "maximum_appearance = ranked_df.filter(\"rank = 1\").drop(\"rank\")\n",
        "maximum_appearance.orderBy(\"country_name\", ascending=True).show(50)"
      ]
    },
    {
      "cell_type": "markdown",
      "metadata": {
        "id": "_YOKr4khadrB"
      },
      "source": [
        "# Exercise 6\n",
        "\n",
        "Calculate the number of weeks each film spent at the number 1 spot of each country's Top 10 list. Then find the films that spent the most time in the number 1 spot for each country."
      ]
    },
    {
      "cell_type": "code",
      "execution_count": 27,
      "metadata": {
        "id": "T4KuEbwgbJar",
        "colab": {
          "base_uri": "https://localhost:8080/"
        },
        "outputId": "e913fa28-b7b5-47ee-f14b-6daf98e8de83"
      },
      "outputs": [
        {
          "output_type": "stream",
          "name": "stdout",
          "text": [
            "+------------+------------+----------+--------+-----------+--------------------+--------------------+--------------------------+----+----------+\n",
            "|country_name|country_iso2|      week|category|weekly_rank|          show_title|        season_title|cumulative_weeks_in_top_10|rank|weeks_at_1|\n",
            "+------------+------------+----------+--------+-----------+--------------------+--------------------+--------------------------+----+----------+\n",
            "|   Argentina|          AR|2022-08-21|   Films|          1|      Look Both Ways|                NULL|                         1|   1|         1|\n",
            "|   Argentina|          AR|2022-08-21|   Films|          4|   The Next 365 Days|                NULL|                         1|   1|         1|\n",
            "|   Argentina|          AR|2022-08-21|   Films|          5|The Angry Birds M...|                NULL|                         1|   1|         1|\n",
            "|   Argentina|          AR|2022-08-21|   Films|          7|      River Runs Red|                NULL|                         1|   1|         1|\n",
            "|   Argentina|          AR|2022-08-21|   Films|         10|           Royalteen|                NULL|                         1|   1|         1|\n",
            "|   Argentina|          AR|2022-08-21|      TV|          7|           High Heat| High Heat: Season 1|                         1|   1|         1|\n",
            "|   Argentina|          AR|2022-08-14|   Films|          1|Bank Robbers: The...|                NULL|                         1|   1|         1|\n",
            "|   Argentina|          AR|2022-08-14|   Films|          3|                1917|                NULL|                         1|   1|         1|\n",
            "|   Argentina|          AR|2022-08-14|   Films|          4|           Day Shift|                NULL|                         1|   1|         1|\n",
            "|   Argentina|          AR|2022-08-14|   Films|          5|  Code Name: Emperor|                NULL|                         1|   1|         1|\n",
            "|   Argentina|          AR|2022-08-14|   Films|          9|        Dreamkatcher|                NULL|                         1|   1|         1|\n",
            "|   Argentina|          AR|2022-08-14|      TV|          6|Extraordinary Att...|Extraordinary Att...|                         1|   1|         1|\n",
            "|   Argentina|          AR|2022-08-14|      TV|         10|   Never Have I Ever|Never Have I Ever...|                         1|   1|         1|\n",
            "|   Argentina|          AR|2022-08-07|   Films|          4|              Carter|                NULL|                         1|   1|         1|\n",
            "|   Argentina|          AR|2022-08-07|   Films|          6|  Don’t Blame Karma!|                NULL|                         1|   1|         1|\n",
            "|   Argentina|          AR|2022-08-07|   Films|          7|         Primal Fear|                NULL|                         1|   1|         1|\n",
            "|   Argentina|          AR|2022-08-07|   Films|          8|      Wedding Season|                NULL|                         1|   1|         1|\n",
            "|   Argentina|          AR|2022-08-07|   Films|         10|   Company of Heroes|                NULL|                         1|   1|         1|\n",
            "|   Argentina|          AR|2022-08-07|      TV|          7|         The Sandman|The Sandman: Seas...|                         1|   1|         1|\n",
            "|   Argentina|          AR|2022-07-31|   Films|          1|          Recurrence|                NULL|                         1|   1|         1|\n",
            "|   Argentina|          AR|2022-07-31|   Films|          3|       Purple Hearts|                NULL|                         1|   1|         1|\n",
            "|   Argentina|          AR|2022-07-31|   Films|          4|Spider-Man: Far f...|                NULL|                         1|   1|         1|\n",
            "|   Argentina|          AR|2022-07-31|      TV|          8|      Keep Breathing|Keep Breathing: L...|                         1|   1|         1|\n",
            "|   Argentina|          AR|2022-07-31|      TV|          9|            Manifest|  Manifest: Season 3|                         1|   1|         1|\n",
            "|   Argentina|          AR|2022-07-31|      TV|         10|        Another Self|Another Self: Sea...|                         1|   1|         1|\n",
            "|   Argentina|          AR|2022-07-24|   Films|          1|        The Gray Man|                NULL|                         1|   1|         1|\n",
            "|   Argentina|          AR|2022-07-24|   Films|          4|Daughter of the Wolf|                NULL|                         1|   1|         1|\n",
            "|   Argentina|          AR|2022-07-24|   Films|          6|Too Old for Fairy...|                NULL|                         1|   1|         1|\n",
            "|   Argentina|          AR|2022-07-24|   Films|          7|   Thursday's Widows|                NULL|                         1|   1|         1|\n",
            "|   Argentina|          AR|2022-07-24|   Films|          9|        Live is Life|                NULL|                         1|   1|         1|\n",
            "|   Argentina|          AR|2022-07-24|      TV|          2| Pasión de Gavilanes|Pasión de Gavilan...|                         1|   1|         1|\n",
            "|   Argentina|          AR|2022-07-24|      TV|          4|        Virgin River|Virgin River: Sea...|                         1|   1|         1|\n",
            "|   Argentina|          AR|2022-07-24|      TV|          8|            Manifest|  Manifest: Season 2|                         1|   1|         1|\n",
            "|   Argentina|          AR|2022-07-17|   Films|          2|          Persuasion|                NULL|                         1|   1|         1|\n",
            "|   Argentina|          AR|2022-07-17|   Films|          4|         Incantation|                NULL|                         1|   1|         1|\n",
            "|   Argentina|          AR|2022-07-17|   Films|          6| Tiempo de valientes|                NULL|                         1|   1|         1|\n",
            "|   Argentina|          AR|2022-07-17|   Films|          7|  Valley of the Dead|                NULL|                         1|   1|         1|\n",
            "|   Argentina|          AR|2022-07-17|   Films|          9|My Daughter’s Killer|                NULL|                         1|   1|         1|\n",
            "|   Argentina|          AR|2022-07-17|   Films|         10|               Clean|                NULL|                         1|   1|         1|\n",
            "|   Argentina|          AR|2022-07-17|      TV|          2|                Alba|      Alba: Season 1|                         1|   1|         1|\n",
            "|   Argentina|          AR|2022-07-17|      TV|          3|       Resident Evil|Resident Evil: Se...|                         1|   1|         1|\n",
            "|   Argentina|          AR|2022-07-17|      TV|          5|            Manifest|  Manifest: Season 1|                         1|   1|         1|\n",
            "|   Argentina|          AR|2022-07-17|      TV|          7|            Capitani|  Capitani: Season 2|                         1|   1|         1|\n",
            "|   Argentina|          AR|2022-07-10|   Films|          2|   American Assassin|                NULL|                         1|   1|         1|\n",
            "|   Argentina|          AR|2022-07-10|   Films|          3|       The Sea Beast|                NULL|                         1|   1|         1|\n",
            "|   Argentina|          AR|2022-07-10|   Films|          4|               Radio|                NULL|                         1|   1|         1|\n",
            "|   Argentina|          AR|2022-07-10|   Films|          5| Girl in the Picture|                NULL|                         1|   1|         1|\n",
            "|   Argentina|          AR|2022-07-10|   Films|          6|  The Mystery of Her|                NULL|                         1|   1|         1|\n",
            "|   Argentina|          AR|2022-07-10|   Films|          7|             Sicario|                NULL|                         1|   1|         1|\n",
            "|   Argentina|          AR|2022-07-10|   Films|          8|  Dangerous Liaisons|                NULL|                         1|   1|         1|\n",
            "+------------+------------+----------+--------+-----------+--------------------+--------------------+--------------------------+----+----------+\n",
            "only showing top 50 rows\n",
            "\n"
          ]
        }
      ],
      "source": [
        "# CodeGrade Tag Ex6a\n",
        "\n",
        "### Create a column using the F.when function to calculate the number of weeks a\n",
        "### films spens in the number 1 spot of the Top 10. Use the .otherwise method to\n",
        "### set rows with no number 1 spots to zero. Use the .alias metod to call this\n",
        "### column \"weeks_at_1\"\n",
        "\n",
        "week_spent_on_1_spec = Window.partitionBy(\"cumulative_weeks_in_top_10\").orderBy(F.desc(\"cumulative_weeks_in_top_10\"))\n",
        "\n",
        "# Use the rank function to assign a rank to each film within each week\n",
        "ranked_df = netflixDF.withColumn(\"rank\", F.rank().over(week_spent_on_1_spec))\n",
        "\n",
        "# Create a new column \"weeks_at_1\" using F.when\n",
        "TimeSpentOn1DF = ranked_df.withColumn(\"weeks_at_1\", F.when(F.col(\"rank\") == 1, 1).otherwise(0))\n",
        "\n",
        "TimeSpentOn1DF.show(50)\n"
      ]
    },
    {
      "cell_type": "code",
      "execution_count": 29,
      "metadata": {
        "id": "3bmaFJryC5ub",
        "colab": {
          "base_uri": "https://localhost:8080/"
        },
        "outputId": "489629e7-a274-4349-b3d0-8ac5cbaf90e3"
      },
      "outputs": [
        {
          "output_type": "stream",
          "name": "stdout",
          "text": [
            "+------------+--------------------+----------------+\n",
            "|country_name|          show_title|NumberOfWeeksAt1|\n",
            "+------------+--------------------+----------------+\n",
            "|   Australia|           Bloodshot|               2|\n",
            "|   Australia|             Traffik|               1|\n",
            "|   Australia|   Godzilla vs. Kong|               2|\n",
            "|     Austria|            For Life|              11|\n",
            "|     Austria|Demon Slayer: Kim...|               3|\n",
            "+------------+--------------------+----------------+\n",
            "only showing top 5 rows\n",
            "\n"
          ]
        }
      ],
      "source": [
        "# CodeGrade Tag Ex6b\n",
        "\n",
        "### Group by country name and show title, and use the .agg method and your new\n",
        "### column to find the number of weeks each film spent in the top spot for each\n",
        "### country.\n",
        "window_spec = Window.partitionBy(\"cumulative_weeks_in_top_10\").orderBy(F.desc(\"cumulative_weeks_in_top_10\"))\n",
        "\n",
        "# Use the rank function to assign a rank to each film within each week\n",
        "ranked_df = netflixDF.withColumn(\"rank\", F.rank().over(window_spec))\n",
        "\n",
        "# Create a new column \"weeks_at_1\" using F.when\n",
        "newnetflixDF = netflixDF\n",
        "newnetflixDF = ranked_df.withColumn(\"weeks_at_1\", F.when(F.col(\"rank\") == 1, 1).otherwise(0))\n",
        "\n",
        "# Group by country and film, and find the number of weeks each film spent in the top spot\n",
        "result = newnetflixDF.groupBy(\"country_name\", \"show_title\").agg(F.sum(\"weeks_at_1\").alias(\"NumberOfWeeksAt1\"))\n",
        "\n",
        "result.show(5)\n"
      ]
    },
    {
      "cell_type": "code",
      "source": [
        "# CodeGrade Tag Ex6c\n",
        "\n",
        "### Produce a dataframe grouped by country name that contains the show title and\n",
        "### number of weeks at the number 1 spot of the top performing film in each\n",
        "### country.\n",
        "# Define a window specification to rank films within each week\n",
        "country_and_week_spec = Window.partitionBy(\"country_name\", \"cumulative_weeks_in_top_10\").orderBy(F.desc(\"cumulative_weeks_in_top_10\"))\n",
        "\n",
        "newnetflixDF = netflixDF\n",
        "\n",
        "# Use the rank function to assign a rank to each film within each week\n",
        "ranked_df = newnetflixDF.withColumn(\"rank\", F.rank().over(window_spec))\n",
        "\n",
        "# Create a new column \"weeks_at_1\" using F.when\n",
        "df = ranked_df.withColumn(\"weeks_at_1\", F.when(F.col(\"rank\") == 1, 1).otherwise(0))\n",
        "\n",
        "# Group by country and film, and find the number of weeks each film spent in the top spot\n",
        "result = df.groupBy(\"country_name\", \"show_title\").agg(F.sum(\"weeks_at_1\").alias(\"NumberOfWeeksAt1\"))\n",
        "\n",
        "# Filter for the top-performing film in each country\n",
        "top_performersDF = result.withColumn(\"rank\", F.row_number().over(Window.partitionBy(\"country_name\").orderBy(F.desc(\"NumberOfWeeksAt1\"))))\n",
        "top_performersDF = top_performersDF.filter(F.col(\"rank\") == 1).drop(\"rank\")\n",
        "\n",
        "top_performersDF.show()"
      ],
      "metadata": {
        "id": "9apP6VYfTBU-",
        "colab": {
          "base_uri": "https://localhost:8080/"
        },
        "outputId": "6e5cded4-6c5e-4849-fdb8-2b9977fd9f0d"
      },
      "execution_count": 31,
      "outputs": [
        {
          "output_type": "stream",
          "name": "stdout",
          "text": [
            "+------------------+--------------------+----------------+\n",
            "|      country_name|          show_title|NumberOfWeeksAt1|\n",
            "+------------------+--------------------+----------------+\n",
            "|         Argentina| Pasión de Gavilanes|              63|\n",
            "|         Australia|     Stranger Things|              41|\n",
            "|           Austria|     Stranger Things|              40|\n",
            "|           Bahamas|SpongeBob SquareP...|              37|\n",
            "|           Bahrain|     Stranger Things|              36|\n",
            "|        Bangladesh|     Stranger Things|              44|\n",
            "|           Belgium|     Stranger Things|              41|\n",
            "|           Bolivia| Pasión de Gavilanes|              62|\n",
            "|            Brazil|         Chiquititas|              51|\n",
            "|          Bulgaria|     Stranger Things|              46|\n",
            "|            Canada|     Stranger Things|              37|\n",
            "|             Chile| Pasión de Gavilanes|              55|\n",
            "|          Colombia|Pablo Escobar, el...|              60|\n",
            "|        Costa Rica| Pasión de Gavilanes|              65|\n",
            "|           Croatia|     Stranger Things|              42|\n",
            "|            Cyprus|     The Good Doctor|              62|\n",
            "|    Czech Republic|     Stranger Things|              47|\n",
            "|           Denmark|     Stranger Things|              39|\n",
            "|Dominican Republic| Pasión de Gavilanes|              65|\n",
            "|           Ecuador| Pasión de Gavilanes|              65|\n",
            "+------------------+--------------------+----------------+\n",
            "only showing top 20 rows\n",
            "\n"
          ]
        }
      ]
    }
  ],
  "metadata": {
    "colab": {
      "provenance": []
    },
    "kernelspec": {
      "display_name": "Python 3",
      "name": "python3"
    },
    "language_info": {
      "name": "python"
    }
  },
  "nbformat": 4,
  "nbformat_minor": 0
}