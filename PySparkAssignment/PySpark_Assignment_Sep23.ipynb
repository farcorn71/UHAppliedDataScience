{
  "cells": [
    {
      "cell_type": "markdown",
      "metadata": {
        "id": "ViQdeQ5m1E2Z"
      },
      "source": [
        "# ADS2 - Assignment 1 - Data Handling and Processing with PySpark\n",
        "\n",
        "**STUDENT NAME -**\n",
        "\n",
        "**STUDENT ID -**\n",
        "\n",
        "In this assignment, you will be analysing the popularity of films and TV shows on the streaming platform, Netflix. Using your knowledge of PySpark DataFrames and Spark SQL, you will produce a number of \"downstream\" data products to analyse trends in global streaming habits.\n",
        "\n",
        "Download the dataset from this [Kaggle](https://www.kaggle.com/dhruvildave/netflix-top-10-tv-shows-and-films) page. A copy of the `all_weeks_countries.csv` file is also available on the canvas page for this assignment.\n",
        "\n",
        "Your task is to load in the data and produce a number of \"downstream\" data products and plots as described below.\n",
        "\n",
        "The PySpark installation and setup is provided below for conveinience.\n",
        "\n",
        "IMPORTANT: DO NOT EDIT OR REMOVE THE COMMENT TAGS IN THE CODE CELLS"
      ]
    },
    {
      "cell_type": "code",
      "execution_count": 2,
      "metadata": {
        "id": "5lb-Z7ZM8O3s"
      },
      "outputs": [],
      "source": [
        "# CodeGrade Tag Init1\n",
        "\n",
        "# Apache Spark uses Java, so first we must install that\n",
        "!apt-get install openjdk-8-jdk-headless -qq > /dev/null"
      ]
    },
    {
      "cell_type": "code",
      "execution_count": 12,
      "metadata": {
        "id": "ixa72o938SKP",
        "colab": {
          "base_uri": "https://localhost:8080/"
        },
        "outputId": "c8b9171d-ab74-462d-cff9-37162a4e6e07"
      },
      "outputs": [
        {
          "output_type": "stream",
          "name": "stdout",
          "text": [
            "Drive already mounted at /content/drive; to attempt to forcibly remount, call drive.mount(\"/content/drive\", force_remount=True).\n"
          ]
        }
      ],
      "source": [
        "# CodeGrade Tag Init2\n",
        "# Mount Google Drive and unpack Spark\n",
        "from google.colab import drive\n",
        "drive.mount('/content/drive')\n",
        "!wget -q https://dlcdn.apache.org/spark/spark-3.5.0/spark-3.5.0-bin-hadoop3.tgz\n",
        "!tar xzf spark-3.5.0-bin-hadoop3.tgz"
      ]
    },
    {
      "cell_type": "code",
      "execution_count": 4,
      "metadata": {
        "id": "yWT7_XiQ8V6u"
      },
      "outputs": [],
      "source": [
        "# CodeGrade Tag Init3\n",
        "# Set up environment variables\n",
        "import os\n",
        "os.environ[\"JAVA_HOME\"] = \"/usr/lib/jvm/java-8-openjdk-amd64\"\n",
        "os.environ[\"SPARK_HOME\"] = \"spark-3.5.0-bin-hadoop3\""
      ]
    },
    {
      "cell_type": "code",
      "execution_count": 5,
      "metadata": {
        "id": "UPSvq-aj8Z_k"
      },
      "outputs": [],
      "source": [
        "# CodeGrade Tag Init4\n",
        "# Install findspark, which helps python locate the pyspark module files\n",
        "!pip install -q findspark\n",
        "import findspark\n",
        "findspark.init()"
      ]
    },
    {
      "cell_type": "code",
      "execution_count": 6,
      "metadata": {
        "id": "kXT8Q_IO8cVe"
      },
      "outputs": [],
      "source": [
        "# Finally, we initialse a \"SparkSession\", which handles the computations\n",
        "from pyspark.sql import SparkSession\n",
        "spark = SparkSession.builder\\\n",
        "        .master(\"local\")\\\n",
        "        .appName(\"Colab\")\\\n",
        "        .config('spark.ui.port', '4050')\\\n",
        "        .getOrCreate()"
      ]
    },
    {
      "cell_type": "code",
      "execution_count": 15,
      "metadata": {
        "id": "nY0UxWbdDcag"
      },
      "outputs": [],
      "source": [
        "# Load the all_weeks_countries.csv into your Colab Notebook as a DataFrame.\n",
        "netflixcsvpath = '/content/drive/My Drive/allweekscountries.csv'\n",
        "\n",
        "# Data is loaded with header: True and an inferred schema\n",
        "netflixDF = (spark\n",
        "           .read\n",
        "           .option('header', 'True')\n",
        "           .option('inferSchema', 'True')\n",
        "           .csv(netflixcsvpath)\n",
        "          )"
      ]
    },
    {
      "cell_type": "code",
      "execution_count": 17,
      "metadata": {
        "id": "adZdlbyGL7Mj"
      },
      "outputs": [],
      "source": [
        "# pyspark.sql.functions countains all the transformations and actions you will\n",
        "# need\n",
        "from pyspark.sql import functions as F"
      ]
    },
    {
      "cell_type": "markdown",
      "metadata": {
        "id": "yfW6RnY_GZpE"
      },
      "source": [
        "# Exercise 1 - Data Preparation\n",
        "\n",
        "\n",
        "1.   Create two separate DataFrames for Films and TV.\n",
        "2.   For the Films data, drop the column containing the season names.\n",
        "3.   For the TV data, replace any null values in the season name column with the show name."
      ]
    },
    {
      "cell_type": "code",
      "source": [
        "# Show the first 5 rows of data and print the schema\n",
        "netflixDF.show(5)\n"
      ],
      "metadata": {
        "colab": {
          "base_uri": "https://localhost:8080/"
        },
        "id": "vW8zpp4liEmX",
        "outputId": "02859d47-a4e7-49f5-aa46-75d82def6979"
      },
      "execution_count": 25,
      "outputs": [
        {
          "output_type": "stream",
          "name": "stdout",
          "text": [
            "+------------+------------+----------+--------+-----------+--------------------+------------+--------------------------+\n",
            "|country_name|country_iso2|      week|category|weekly_rank|          show_title|season_title|cumulative_weeks_in_top_10|\n",
            "+------------+------------+----------+--------+-----------+--------------------+------------+--------------------------+\n",
            "|   Argentina|          AR|2022-08-21|   Films|          1|      Look Both Ways|        NULL|                         1|\n",
            "|   Argentina|          AR|2022-08-21|   Films|          2|           Day Shift|        NULL|                         2|\n",
            "|   Argentina|          AR|2022-08-21|   Films|          3|Bank Robbers: The...|        NULL|                         2|\n",
            "|   Argentina|          AR|2022-08-21|   Films|          4|   The Next 365 Days|        NULL|                         1|\n",
            "|   Argentina|          AR|2022-08-21|   Films|          5|The Angry Birds M...|        NULL|                         1|\n",
            "+------------+------------+----------+--------+-----------+--------------------+------------+--------------------------+\n",
            "only showing top 5 rows\n",
            "\n"
          ]
        }
      ]
    },
    {
      "cell_type": "code",
      "execution_count": 22,
      "metadata": {
        "id": "I7PS8iZgqwjt",
        "colab": {
          "base_uri": "https://localhost:8080/"
        },
        "outputId": "c74c6a89-9936-4013-b4c8-b034d7c62dbc"
      },
      "outputs": [
        {
          "output_type": "stream",
          "name": "stdout",
          "text": [
            "root\n",
            " |-- country_name: string (nullable = true)\n",
            " |-- country_iso2: string (nullable = true)\n",
            " |-- week: date (nullable = true)\n",
            " |-- category: string (nullable = true)\n",
            " |-- weekly_rank: integer (nullable = true)\n",
            " |-- show_title: string (nullable = true)\n",
            " |-- season_title: string (nullable = true)\n",
            " |-- cumulative_weeks_in_top_10: integer (nullable = true)\n",
            "\n"
          ]
        }
      ],
      "source": [
        "# CodeGrade Tag Ex1a\n",
        "\n",
        "### Display the table and its schema\n",
        "netflixDF.printSchema()\n",
        "\n"
      ]
    },
    {
      "cell_type": "code",
      "execution_count": 40,
      "metadata": {
        "id": "qfke8sGRN5ns",
        "colab": {
          "base_uri": "https://localhost:8080/"
        },
        "outputId": "10a02a17-f8ca-47f9-9c7f-990b710f26a1"
      },
      "outputs": [
        {
          "output_type": "stream",
          "name": "stdout",
          "text": [
            "+------------+------------+----------+--------+-----------+--------------------+------------+--------------------------+\n",
            "|country_name|country_iso2|      week|category|weekly_rank|          show_title|season_title|cumulative_weeks_in_top_10|\n",
            "+------------+------------+----------+--------+-----------+--------------------+------------+--------------------------+\n",
            "|   Argentina|          AR|2022-08-21|   Films|          1|      Look Both Ways|        NULL|                         1|\n",
            "|   Argentina|          AR|2022-08-21|   Films|          2|           Day Shift|        NULL|                         2|\n",
            "|   Argentina|          AR|2022-08-21|   Films|          3|Bank Robbers: The...|        NULL|                         2|\n",
            "|   Argentina|          AR|2022-08-21|   Films|          4|   The Next 365 Days|        NULL|                         1|\n",
            "|   Argentina|          AR|2022-08-21|   Films|          5|The Angry Birds M...|        NULL|                         1|\n",
            "+------------+------------+----------+--------+-----------+--------------------+------------+--------------------------+\n",
            "only showing top 5 rows\n",
            "\n",
            "+------------+------------+----------+--------+-----------+-------------------+--------------------+--------------------------+\n",
            "|country_name|country_iso2|      week|category|weekly_rank|         show_title|        season_title|cumulative_weeks_in_top_10|\n",
            "+------------+------------+----------+--------+-----------+-------------------+--------------------+--------------------------+\n",
            "|   Argentina|          AR|2022-08-21|      TV|          1|Pasión de Gavilanes|Pasión de Gavilan...|                         5|\n",
            "|   Argentina|          AR|2022-08-21|      TV|          2|       Another Self|Another Self: Sea...|                         4|\n",
            "|   Argentina|          AR|2022-08-21|      TV|          3|Pasión de Gavilanes|Pasión de Gavilan...|                        58|\n",
            "|   Argentina|          AR|2022-08-21|      TV|          4|           Manifest|  Manifest: Season 1|                         6|\n",
            "|   Argentina|          AR|2022-08-21|      TV|          5|        The Sandman|The Sandman: Seas...|                         3|\n",
            "+------------+------------+----------+--------+-----------+-------------------+--------------------+--------------------------+\n",
            "only showing top 5 rows\n",
            "\n"
          ]
        }
      ],
      "source": [
        "# CodeGrade Tag Ex1b\n",
        "\n",
        "### Seperate the data into two DataFrames for Films and TV\n",
        "### Call the dataframes tvDF and filmsDF\n",
        "filmsDF = netflixDF.where(\"category == 'Films'\")\n",
        "\n",
        "tvDF = netflixDF.where(\"category == 'TV'\")\n",
        "\n",
        "\n",
        "filmsDF.show(5)\n",
        "tvDF.show(5)\n"
      ]
    },
    {
      "cell_type": "code",
      "execution_count": 44,
      "metadata": {
        "id": "X7JsDYkQN7Zw",
        "colab": {
          "base_uri": "https://localhost:8080/"
        },
        "outputId": "ff437269-657b-4994-d7de-b78f195fb2f6"
      },
      "outputs": [
        {
          "output_type": "stream",
          "name": "stdout",
          "text": [
            "+------------+------------+----------+--------+-----------+--------------------+--------------------------+\n",
            "|country_name|country_iso2|      week|category|weekly_rank|          show_title|cumulative_weeks_in_top_10|\n",
            "+------------+------------+----------+--------+-----------+--------------------+--------------------------+\n",
            "|   Argentina|          AR|2022-08-21|   Films|          1|      Look Both Ways|                         1|\n",
            "|   Argentina|          AR|2022-08-21|   Films|          2|           Day Shift|                         2|\n",
            "|   Argentina|          AR|2022-08-21|   Films|          3|Bank Robbers: The...|                         2|\n",
            "|   Argentina|          AR|2022-08-21|   Films|          4|   The Next 365 Days|                         1|\n",
            "|   Argentina|          AR|2022-08-21|   Films|          5|The Angry Birds M...|                         1|\n",
            "+------------+------------+----------+--------+-----------+--------------------+--------------------------+\n",
            "only showing top 5 rows\n",
            "\n"
          ]
        }
      ],
      "source": [
        "# CodeGrade Tag Ex1c\n",
        "from pyspark.sql.functions import col, coalesce\n",
        "### Drop the 'season_title' column from the Films DataFrame, display the table\n",
        "Season_Title_Dropped_filmsDF = filmsDF.drop(col('season_title'))\n",
        "\n",
        "Season_Title_Dropped_filmsDF.show(5)\n"
      ]
    },
    {
      "cell_type": "code",
      "execution_count": 50,
      "metadata": {
        "id": "4M83pWB5N9Ar",
        "colab": {
          "base_uri": "https://localhost:8080/"
        },
        "outputId": "b7284de1-cf7f-40bc-fa90-4477d5c6be41"
      },
      "outputs": [
        {
          "output_type": "stream",
          "name": "stdout",
          "text": [
            "+------------+------------+----------+--------+-----------+--------------------+--------------------+--------------------------+-------------------+\n",
            "|country_name|country_iso2|      week|category|weekly_rank|          show_title|        season_title|cumulative_weeks_in_top_10|IsNull_season_title|\n",
            "+------------+------------+----------+--------+-----------+--------------------+--------------------+--------------------------+-------------------+\n",
            "|   Argentina|          AR|2022-08-21|      TV|          1| Pasión de Gavilanes|Pasión de Gavilan...|                         5|              false|\n",
            "|   Argentina|          AR|2022-08-21|      TV|          2|        Another Self|Another Self: Sea...|                         4|              false|\n",
            "|   Argentina|          AR|2022-08-21|      TV|          3| Pasión de Gavilanes|Pasión de Gavilan...|                        58|              false|\n",
            "|   Argentina|          AR|2022-08-21|      TV|          4|            Manifest|  Manifest: Season 1|                         6|              false|\n",
            "|   Argentina|          AR|2022-08-21|      TV|          5|         The Sandman|The Sandman: Seas...|                         3|              false|\n",
            "|   Argentina|          AR|2022-08-21|      TV|          6|Extraordinary Att...|Extraordinary Att...|                         2|              false|\n",
            "|   Argentina|          AR|2022-08-21|      TV|          7|           High Heat| High Heat: Season 1|                         1|              false|\n",
            "|   Argentina|          AR|2022-08-21|      TV|          8|            Manifest|  Manifest: Season 2|                         5|              false|\n",
            "|   Argentina|          AR|2022-08-21|      TV|          9|            Manifest|  Manifest: Season 3|                         4|              false|\n",
            "|   Argentina|          AR|2022-08-21|      TV|         10|   Never Have I Ever|Never Have I Ever...|                         2|              false|\n",
            "|   Argentina|          AR|2022-08-14|      TV|          1| Pasión de Gavilanes|Pasión de Gavilan...|                         4|              false|\n",
            "|   Argentina|          AR|2022-08-14|      TV|          2|        Another Self|Another Self: Sea...|                         3|              false|\n",
            "|   Argentina|          AR|2022-08-14|      TV|          3|         The Sandman|The Sandman: Seas...|                         2|              false|\n",
            "|   Argentina|          AR|2022-08-14|      TV|          4| Pasión de Gavilanes|Pasión de Gavilan...|                        57|              false|\n",
            "|   Argentina|          AR|2022-08-14|      TV|          5|            Manifest|  Manifest: Season 1|                         5|              false|\n",
            "|   Argentina|          AR|2022-08-14|      TV|          6|Extraordinary Att...|Extraordinary Att...|                         1|              false|\n",
            "|   Argentina|          AR|2022-08-14|      TV|          7|                Alba|      Alba: Season 1|                         5|              false|\n",
            "|   Argentina|          AR|2022-08-14|      TV|          8|            Manifest|  Manifest: Season 2|                         4|              false|\n",
            "|   Argentina|          AR|2022-08-14|      TV|          9|            Manifest|  Manifest: Season 3|                         3|              false|\n",
            "|   Argentina|          AR|2022-08-14|      TV|         10|   Never Have I Ever|Never Have I Ever...|                         1|              false|\n",
            "+------------+------------+----------+--------+-----------+--------------------+--------------------+--------------------------+-------------------+\n",
            "only showing top 20 rows\n",
            "\n",
            "+------------+------------+----------+--------+-----------+--------------------+--------------------+--------------------------+\n",
            "|country_name|country_iso2|      week|category|weekly_rank|          show_title|        season_title|cumulative_weeks_in_top_10|\n",
            "+------------+------------+----------+--------+-----------+--------------------+--------------------+--------------------------+\n",
            "|   Argentina|          AR|2022-08-21|      TV|          1| Pasión de Gavilanes|Pasión de Gavilan...|                         5|\n",
            "|   Argentina|          AR|2022-08-21|      TV|          2|        Another Self|Another Self: Sea...|                         4|\n",
            "|   Argentina|          AR|2022-08-21|      TV|          3| Pasión de Gavilanes|Pasión de Gavilan...|                        58|\n",
            "|   Argentina|          AR|2022-08-21|      TV|          4|            Manifest|  Manifest: Season 1|                         6|\n",
            "|   Argentina|          AR|2022-08-21|      TV|          5|         The Sandman|The Sandman: Seas...|                         3|\n",
            "|   Argentina|          AR|2022-08-21|      TV|          6|Extraordinary Att...|Extraordinary Att...|                         2|\n",
            "|   Argentina|          AR|2022-08-21|      TV|          7|           High Heat| High Heat: Season 1|                         1|\n",
            "|   Argentina|          AR|2022-08-21|      TV|          8|            Manifest|  Manifest: Season 2|                         5|\n",
            "|   Argentina|          AR|2022-08-21|      TV|          9|            Manifest|  Manifest: Season 3|                         4|\n",
            "|   Argentina|          AR|2022-08-21|      TV|         10|   Never Have I Ever|Never Have I Ever...|                         2|\n",
            "|   Argentina|          AR|2022-08-14|      TV|          1| Pasión de Gavilanes|Pasión de Gavilan...|                         4|\n",
            "|   Argentina|          AR|2022-08-14|      TV|          2|        Another Self|Another Self: Sea...|                         3|\n",
            "|   Argentina|          AR|2022-08-14|      TV|          3|         The Sandman|The Sandman: Seas...|                         2|\n",
            "|   Argentina|          AR|2022-08-14|      TV|          4| Pasión de Gavilanes|Pasión de Gavilan...|                        57|\n",
            "|   Argentina|          AR|2022-08-14|      TV|          5|            Manifest|  Manifest: Season 1|                         5|\n",
            "|   Argentina|          AR|2022-08-14|      TV|          6|Extraordinary Att...|Extraordinary Att...|                         1|\n",
            "|   Argentina|          AR|2022-08-14|      TV|          7|                Alba|      Alba: Season 1|                         5|\n",
            "|   Argentina|          AR|2022-08-14|      TV|          8|            Manifest|  Manifest: Season 2|                         4|\n",
            "|   Argentina|          AR|2022-08-14|      TV|          9|            Manifest|  Manifest: Season 3|                         3|\n",
            "|   Argentina|          AR|2022-08-14|      TV|         10|   Never Have I Ever|Never Have I Ever...|                         1|\n",
            "+------------+------------+----------+--------+-----------+--------------------+--------------------+--------------------------+\n",
            "only showing top 20 rows\n",
            "\n"
          ]
        }
      ],
      "source": [
        "# CodeGrade Tag Ex1d\n",
        "\n",
        "### Use the F.isnull function to create a column showing where there are null\n",
        "### values in the 'season_title' column. Replace the null values with the\n",
        "### corresponding value from the 'show_title' column, then replace the\n",
        "### 'season_title' column in the tvDF DataFrame.\n",
        "FnullDF = tvDF.withColumn(\"IsNull_season_title\", col(\"season_title\").isNull())\n",
        "FnullDF.show()\n",
        "# Replace null values in 'Column2' with values from 'Column1'\n",
        "tvDF = tvDF.withColumn(\"season_title\", coalesce(col(\"season_title\"), col(\"show_title\")))\n",
        "\n",
        "tvDF = tvDF.withColumn(\"show_title\", coalesce(col(\"show_title\"), col(\"season_title\")))\n",
        "\n",
        "tvDF.show()"
      ]
    },
    {
      "cell_type": "markdown",
      "metadata": {
        "id": "rAHZm5_9IzTn"
      },
      "source": [
        "# Exercise 2\n",
        "\n",
        "Making use of the \"groupBy\" and \"where\" methods, find the number of weeks the show \"Stranger Things\" was in the Top 10 for the United Kingdom across all seasons. Store your result in a variable named \"STWeeks\"\n"
      ]
    },
    {
      "cell_type": "code",
      "execution_count": 63,
      "metadata": {
        "id": "68QRfnJsvIdt",
        "colab": {
          "base_uri": "https://localhost:8080/"
        },
        "outputId": "fc00c3e1-f1f9-45c4-bcd8-161220086a67"
      },
      "outputs": [
        {
          "output_type": "stream",
          "name": "stdout",
          "text": [
            "46\n",
            "+--------------+------------+----------+--------+-----------+---------------+-----------------+--------------------------+\n",
            "|  country_name|country_iso2|      week|category|weekly_rank|     show_title|     season_title|cumulative_weeks_in_top_10|\n",
            "+--------------+------------+----------+--------+-----------+---------------+-----------------+--------------------------+\n",
            "|United Kingdom|          GB|2022-08-21|      TV|          3|Stranger Things|Stranger Things 4|                        13|\n",
            "|United Kingdom|          GB|2022-08-14|      TV|          3|Stranger Things|Stranger Things 4|                        12|\n",
            "|United Kingdom|          GB|2022-08-14|      TV|         10|Stranger Things|Stranger Things 3|                        12|\n",
            "|United Kingdom|          GB|2022-08-07|      TV|          2|Stranger Things|Stranger Things 4|                        11|\n",
            "|United Kingdom|          GB|2022-08-07|      TV|          9|Stranger Things|Stranger Things 3|                        11|\n",
            "|United Kingdom|          GB|2022-08-07|      TV|         10|Stranger Things|Stranger Things 2|                        11|\n",
            "|United Kingdom|          GB|2022-07-31|      TV|          2|Stranger Things|Stranger Things 4|                        10|\n",
            "|United Kingdom|          GB|2022-07-31|      TV|          5|Stranger Things|Stranger Things 3|                        10|\n",
            "|United Kingdom|          GB|2022-07-31|      TV|          6|Stranger Things|Stranger Things 2|                        10|\n",
            "|United Kingdom|          GB|2022-07-31|      TV|          8|Stranger Things|             NULL|                        10|\n",
            "|United Kingdom|          GB|2022-07-24|      TV|          2|Stranger Things|Stranger Things 4|                         9|\n",
            "|United Kingdom|          GB|2022-07-24|      TV|          5|Stranger Things|Stranger Things 3|                         9|\n",
            "|United Kingdom|          GB|2022-07-24|      TV|          6|Stranger Things|Stranger Things 2|                         9|\n",
            "|United Kingdom|          GB|2022-07-24|      TV|          7|Stranger Things|             NULL|                         9|\n",
            "|United Kingdom|          GB|2022-07-17|      TV|          1|Stranger Things|Stranger Things 4|                         8|\n",
            "|United Kingdom|          GB|2022-07-17|      TV|          3|Stranger Things|Stranger Things 2|                         8|\n",
            "|United Kingdom|          GB|2022-07-17|      TV|          4|Stranger Things|Stranger Things 3|                         8|\n",
            "|United Kingdom|          GB|2022-07-17|      TV|          5|Stranger Things|             NULL|                         8|\n",
            "|United Kingdom|          GB|2022-07-10|      TV|          1|Stranger Things|Stranger Things 4|                         7|\n",
            "|United Kingdom|          GB|2022-07-10|      TV|          2|Stranger Things|             NULL|                         7|\n",
            "+--------------+------------+----------+--------+-----------+---------------+-----------------+--------------------------+\n",
            "only showing top 20 rows\n",
            "\n",
            "+-----------------+-----------------+\n",
            "|     season_title|TotalWeeksInTop10|\n",
            "+-----------------+-----------------+\n",
            "|             NULL|               10|\n",
            "|Stranger Things 4|               13|\n",
            "|Stranger Things 3|               12|\n",
            "|Stranger Things 2|               11|\n",
            "+-----------------+-----------------+\n",
            "\n"
          ]
        }
      ],
      "source": [
        "# CodeGrade Tag Ex2\n",
        "### Use the \"where\" method to create a new dataframe containing the data for\n",
        "### the show Stranger Things in the Uniter Kingdom. Call this dataframe STDF.\n",
        "STDF = netflixDF.where(\"show_title == 'Stranger Things' AND country_name == 'United Kingdom'\")\n",
        "print(STDF.count())\n",
        "STDF.show()\n",
        "### Using \"groupBy\" method and \"F.count_distinct\" function, find the total number of weeks\n",
        "### Stranger Things spent in the top 10 of the UK, across all seasons. Show the\n",
        "### result.\n",
        "result = STDF.groupBy(\"season_title\").agg(F.countDistinct(\"cumulative_weeks_in_top_10\").alias(\"TotalWeeksInTop10\"))\n",
        "result.show()\n"
      ]
    },
    {
      "cell_type": "markdown",
      "metadata": {
        "id": "o1i0AYsUzfOl"
      },
      "source": [
        "# Exercise 3\n",
        "\n",
        "Produce a dataframe containing only the Top 25 TV seasons in the UK, based on the number of weeks they spent in the Top 10."
      ]
    },
    {
      "cell_type": "code",
      "execution_count": 65,
      "metadata": {
        "id": "JvD5HHZpSOLM",
        "colab": {
          "base_uri": "https://localhost:8080/"
        },
        "outputId": "89e3a66b-a309-40eb-e733-4a39e3196de5"
      },
      "outputs": [
        {
          "output_type": "stream",
          "name": "stdout",
          "text": [
            "+--------------+------------+----------+--------+-----------+----------------+--------------------+--------------------------+\n",
            "|  country_name|country_iso2|      week|category|weekly_rank|      show_title|        season_title|cumulative_weeks_in_top_10|\n",
            "+--------------+------------+----------+--------+-----------+----------------+--------------------+--------------------------+\n",
            "|United Kingdom|          GB|2022-08-21|      TV|          3| Stranger Things|   Stranger Things 4|                        13|\n",
            "|United Kingdom|          GB|2022-08-14|      TV|          3| Stranger Things|   Stranger Things 4|                        12|\n",
            "|United Kingdom|          GB|2022-08-14|      TV|         10| Stranger Things|   Stranger Things 3|                        12|\n",
            "|United Kingdom|          GB|2022-06-05|      TV|          7|           Ozark|     Ozark: Season 4|                        12|\n",
            "|United Kingdom|          GB|2022-08-07|      TV|          2| Stranger Things|   Stranger Things 4|                        11|\n",
            "|United Kingdom|          GB|2022-08-07|      TV|          9| Stranger Things|   Stranger Things 3|                        11|\n",
            "|United Kingdom|          GB|2022-08-07|      TV|         10| Stranger Things|   Stranger Things 2|                        11|\n",
            "|United Kingdom|          GB|2022-05-29|      TV|          5|           Ozark|     Ozark: Season 4|                        11|\n",
            "|United Kingdom|          GB|2022-07-31|      TV|          8| Stranger Things|                NULL|                        10|\n",
            "|United Kingdom|          GB|2022-08-21|      TV|          4|Better Call Saul|Better Call Saul:...|                        10|\n",
            "|United Kingdom|          GB|2022-07-31|      TV|          5| Stranger Things|   Stranger Things 3|                        10|\n",
            "|United Kingdom|          GB|2022-07-31|      TV|          6| Stranger Things|   Stranger Things 2|                        10|\n",
            "|United Kingdom|          GB|2022-07-31|      TV|          2| Stranger Things|   Stranger Things 4|                        10|\n",
            "|United Kingdom|          GB|2022-05-22|      TV|          3|           Ozark|     Ozark: Season 4|                        10|\n",
            "|United Kingdom|          GB|2021-11-21|      TV|          7|      Squid Game|Squid Game: Season 1|                        10|\n",
            "|United Kingdom|          GB|2022-07-24|      TV|          6| Stranger Things|   Stranger Things 2|                         9|\n",
            "|United Kingdom|          GB|2022-07-24|      TV|          2| Stranger Things|   Stranger Things 4|                         9|\n",
            "|United Kingdom|          GB|2022-07-24|      TV|          5| Stranger Things|   Stranger Things 3|                         9|\n",
            "|United Kingdom|          GB|2022-07-24|      TV|          7| Stranger Things|                NULL|                         9|\n",
            "|United Kingdom|          GB|2021-11-28|      TV|          9|            Maid|Maid: Limited Series|                         9|\n",
            "|United Kingdom|          GB|2022-08-14|      TV|          8|Better Call Saul|Better Call Saul:...|                         9|\n",
            "|United Kingdom|          GB|2022-05-22|      TV|         10|      Bridgerton|Bridgerton: Season 2|                         9|\n",
            "|United Kingdom|          GB|2022-05-15|      TV|          1|           Ozark|     Ozark: Season 4|                         9|\n",
            "|United Kingdom|          GB|2022-02-27|      TV|          8|      PAW Patrol|PAW Patrol: Season 6|                         9|\n",
            "|United Kingdom|          GB|2021-11-14|      TV|          7|      Squid Game|Squid Game: Season 1|                         9|\n",
            "+--------------+------------+----------+--------+-----------+----------------+--------------------+--------------------------+\n",
            "\n"
          ]
        }
      ],
      "source": [
        "# CodeGrade Tag Ex3\n",
        "### Produce a dataframe containing the top 25 seasons by number of weeks in the\n",
        "### top 10 of the United Kingdom, sorted by number of weeks. Store the dataframe\n",
        "### in a variable called Top25\n",
        "Top25 = netflixDF.where(\"country_name == 'United Kingdom'\").orderBy('cumulative_weeks_in_top_10', ascending=False).limit(25)\n",
        "Top25.show(30);"
      ]
    },
    {
      "cell_type": "markdown",
      "metadata": {
        "id": "QSLCobP5Tpmp"
      },
      "source": [
        "# Exercise 4\n",
        "\n",
        "For the show \"Young Sheldon\", find the country where each season spent the most time in the Top 10."
      ]
    },
    {
      "cell_type": "code",
      "execution_count": 70,
      "metadata": {
        "id": "ocBh6iMbkQ0t",
        "colab": {
          "base_uri": "https://localhost:8080/"
        },
        "outputId": "cbd0b992-b64f-41b0-e829-b4ecae0e00af"
      },
      "outputs": [
        {
          "output_type": "stream",
          "name": "stdout",
          "text": [
            "+--------------+--------------+\n",
            "|  country_name|MaxAppearances|\n",
            "+--------------+--------------+\n",
            "|         Italy|             3|\n",
            "|       Ireland|             6|\n",
            "|        Canada|             6|\n",
            "|   New Zealand|             3|\n",
            "|     Australia|             4|\n",
            "|United Kingdom|             6|\n",
            "+--------------+--------------+\n",
            "\n"
          ]
        }
      ],
      "source": [
        "# CodeGrade Tag Ex4\n",
        "### For each season of the show \"Young Sheldon\" find the countries where it spent\n",
        "### the most time in the Top 10\n",
        "ysDF = netflixDF.where(\"show_title == 'Young Sheldon'\")\n",
        "result = ysDF.groupBy(\"country_name\", \"cumulative_weeks_in_top_10\").count()\n",
        "maximum_appearance = result.groupBy(\"country_name\").agg(F.max(\"cumulative_weeks_in_top_10\").alias(\"MaxAppearances\"))\n",
        "maximum_appearance.show()\n"
      ]
    },
    {
      "cell_type": "markdown",
      "metadata": {
        "id": "aOi5jbLgTupk"
      },
      "source": [
        "# Exercise 5\n",
        "\n",
        "For each country, find the film that spent the most time in the Top 10."
      ]
    },
    {
      "cell_type": "code",
      "execution_count": 75,
      "metadata": {
        "id": "hYz243A8kkNG",
        "colab": {
          "base_uri": "https://localhost:8080/"
        },
        "outputId": "df5eb44f-9bff-4bbd-cf79-2dd28c4a27b1"
      },
      "outputs": [
        {
          "output_type": "stream",
          "name": "stdout",
          "text": [
            "+--------------------+------------+--------------+\n",
            "|          show_title|country_name|MaxAppearances|\n",
            "+--------------------+------------+--------------+\n",
            "|Bank Robbers: The...|   Argentina|             2|\n",
            "|        Night School|   Argentina|             1|\n",
            "|      Trees of Peace|   Argentina|             1|\n",
            "|   A Perfect Pairing|   Argentina|             3|\n",
            "|   Pedro el escamoso|   Argentina|             9|\n",
            "|The Power of the Dog|   Argentina|             2|\n",
            "|                  Ma|   Argentina|             2|\n",
            "|          Fatherhood|   Argentina|             1|\n",
            "|Afterlife of the ...|   Argentina|             2|\n",
            "|         Jackass 4.5|   Argentina|             1|\n",
            "|The Postcard Kill...|   Argentina|             2|\n",
            "|        The Starling|   Argentina|             2|\n",
            "|           Collision|   Argentina|             2|\n",
            "|          Sweet Girl|   Argentina|             3|\n",
            "| 42 Days of Darkness|   Argentina|             2|\n",
            "|         Photocopier|   Argentina|             1|\n",
            "|The Angry Birds M...|   Argentina|             1|\n",
            "| Pasión de Gavilanes|   Argentina|            58|\n",
            "|        Almost Happy|   Argentina|             2|\n",
            "|Mary, Queen of Scots|   Argentina|             1|\n",
            "+--------------------+------------+--------------+\n",
            "only showing top 20 rows\n",
            "\n"
          ]
        }
      ],
      "source": [
        "# CodeGrade Tag Ex5\n",
        "### For each country, find the film that spent the most time in the Top 10\n",
        "### Display the results in a Dataframe ordered by country name.\n",
        "\n",
        "allCountriesDF = netflixDF.groupBy(\"country_name\", \"show_title\",  \"cumulative_weeks_in_top_10\").count()\n",
        "maximum_appearance = allCountriesDF.groupBy(\"country_name\").agg(F.max(\"cumulative_weeks_in_top_10\").alias(\"MaxAppearances\"))\n",
        "maximum_appearance.orderBy(\"country_name\", ascending=True).show()"
      ]
    },
    {
      "cell_type": "markdown",
      "metadata": {
        "id": "_YOKr4khadrB"
      },
      "source": [
        "# Exercise 6\n",
        "\n",
        "Calculate the number of weeks each film spent at the number 1 spot of each country's Top 10 list. Then find the films that spent the most time in the number 1 spot for each country."
      ]
    },
    {
      "cell_type": "code",
      "execution_count": null,
      "metadata": {
        "id": "T4KuEbwgbJar"
      },
      "outputs": [],
      "source": [
        "# CodeGrade Tag Ex6a\n",
        "\n",
        "### Create a column using the F.when function to calculate the number of weeks a\n",
        "### films spens in the number 1 spot of the Top 10. Use the .otherwise method to\n",
        "### set rows with no number 1 spots to zero. Use the .alias metod to call this\n",
        "### column \"weeks_at_1\"\n",
        "\n"
      ]
    },
    {
      "cell_type": "code",
      "execution_count": null,
      "metadata": {
        "id": "3bmaFJryC5ub"
      },
      "outputs": [],
      "source": [
        "# CodeGrade Tag Ex6b\n",
        "\n",
        "### Group by country name and sow title, and use the .agg method and your new\n",
        "### column to find the number of weeks each film spent in the top spot for each\n",
        "### country.\n",
        "\n"
      ]
    },
    {
      "cell_type": "code",
      "source": [
        "# CodeGrade Tag Ex6c\n",
        "\n",
        "### Produce a dataframe grouped by country name that contains the show title and\n",
        "### number of weeks at the number 1 spot of the top performing film in each\n",
        "### country.\n",
        "\n"
      ],
      "metadata": {
        "id": "9apP6VYfTBU-"
      },
      "execution_count": null,
      "outputs": []
    }
  ],
  "metadata": {
    "colab": {
      "provenance": []
    },
    "kernelspec": {
      "display_name": "Python 3",
      "name": "python3"
    },
    "language_info": {
      "name": "python"
    }
  },
  "nbformat": 4,
  "nbformat_minor": 0
}